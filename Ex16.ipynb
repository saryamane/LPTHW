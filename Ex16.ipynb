{
 "cells": [
  {
   "cell_type": "code",
   "execution_count": null,
   "metadata": {
    "collapsed": true
   },
   "outputs": [],
   "source": [
    "from sys import argv\n",
    "\n",
    "script, filename = argv\n",
    "\n",
    "print \"We're going to erase %r.\" % filename\n",
    "print \"If you don't want that, hit CTRL-C (^c).\"\n",
    "print \"If you do want that, hit ENTER\"\n",
    "\n",
    "raw_input(\"?\")\n",
    "\n",
    "print \"Opening the file...\"\n",
    "target = open(filename, 'w')\n",
    "\n",
    "# If you open the file with 'w' mode, then do you really need the \n",
    "# target.truncate()?  No, you actually do not need the truncate.\n",
    "# Read the documentation for Python's open function and \n",
    "# see if that's true.\n",
    "\n",
    "print \"Truncating the file. Goodbye!\"\n",
    "\n",
    "target.truncate()\n",
    "\n",
    "print \"Now I'm going to ask you for three lines.\"\n",
    "\n",
    "line1 = raw_input(\"line1: \")\n",
    "line2 = raw_input(\"line2: \")\n",
    "line3 = raw_input(\"line3: \")\n",
    "\n",
    "print \"I am now going to write these to the file.\"\n",
    "\n",
    "# target.write(line1)\n",
    "# target.write(\"\\n\")\n",
    "# target.write(line2)\n",
    "# target.write(\"\\n\")\n",
    "# target.write(line3)\n",
    "# target.write(\"\\n\")\n",
    "\n",
    "target.write(line1, \"\\n\", line2, \"\\n\", line3, \"\\n\")\n",
    "\n",
    "print \"And finally, we close.\"\n",
    "\n",
    "text_file = target.read()\n",
    "\n",
    "print text_file\n",
    "\n",
    "target.close()"
   ]
  }
 ],
 "metadata": {
  "kernelspec": {
   "display_name": "Python 2",
   "language": "python",
   "name": "python2"
  },
  "language_info": {
   "codemirror_mode": {
    "name": "ipython",
    "version": 2
   },
   "file_extension": ".py",
   "mimetype": "text/x-python",
   "name": "python",
   "nbconvert_exporter": "python",
   "pygments_lexer": "ipython2",
   "version": "2.7.10"
  }
 },
 "nbformat": 4,
 "nbformat_minor": 0
}
