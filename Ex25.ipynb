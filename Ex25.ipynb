{
 "cells": [
  {
   "cell_type": "code",
   "execution_count": 2,
   "metadata": {
    "collapsed": true
   },
   "outputs": [],
   "source": [
    "def break_words(stuff):\n",
    "    \"\"\"This function will break up words for us.\"\"\"\n",
    "    words = stuff.split(' ')\n",
    "    return words\n",
    "\n",
    "def sort_words(words):\n",
    "    \"\"\"Sorts the words.\"\"\"\n",
    "    return sorted(words)\n",
    "\n",
    "def print_first_word(words):\n",
    "    \"\"\"Prints the first word after popping it off.\"\"\"\n",
    "    word = words.pop(0)\n",
    "    print word\n",
    "    \n",
    "def print_last_word(words):\n",
    "    \"\"\"Prints the last word after popping it off\"\"\"\n",
    "    word = words.pop(-1)\n",
    "    print word\n",
    "    \n",
    "def sort_sentence(sentence):\n",
    "    \"\"\"Takes in a full sentence and returns the sorted words\"\"\"\n",
    "    words = break_words(sentence)\n",
    "    return sort_words(words)\n",
    "\n",
    "def print_first_and_last(sentence):\n",
    "    \"\"\"Prints the first and the last words of the sentence\"\"\"\n",
    "    words = break_words(sentence)\n",
    "    print_first_word(words)\n",
    "    print_last_word(words)\n",
    "    \n",
    "def print_first_and_last_sorted(sentence):\n",
    "    \"\"\"Sorts the words and then prints the first and last one\"\"\"\n",
    "    words = sort_sentence(sentence)\n",
    "    print_first_word(words)\n",
    "    print_last_word(words)"
   ]
  }
 ],
 "metadata": {
  "kernelspec": {
   "display_name": "Python 2",
   "language": "python",
   "name": "python2"
  },
  "language_info": {
   "codemirror_mode": {
    "name": "ipython",
    "version": 2
   },
   "file_extension": ".py",
   "mimetype": "text/x-python",
   "name": "python",
   "nbconvert_exporter": "python",
   "pygments_lexer": "ipython2",
   "version": "2.7.10"
  }
 },
 "nbformat": 4,
 "nbformat_minor": 0
}
