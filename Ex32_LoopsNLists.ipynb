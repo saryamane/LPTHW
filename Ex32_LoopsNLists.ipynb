{
 "cells": [
  {
   "cell_type": "code",
   "execution_count": 1,
   "metadata": {
    "collapsed": true
   },
   "outputs": [],
   "source": [
    "hairs = ['brown', 'blond', 'red']\n",
    "eyes = ['brown','blue','green']\n",
    "weights = [1,2,3,4]"
   ]
  },
  {
   "cell_type": "code",
   "execution_count": 2,
   "metadata": {
    "collapsed": true
   },
   "outputs": [],
   "source": [
    "# Now time for some programming where we will take a list\n",
    "# and print it out using a loop"
   ]
  },
  {
   "cell_type": "code",
   "execution_count": 4,
   "metadata": {
    "collapsed": false
   },
   "outputs": [
    {
     "name": "stdout",
     "output_type": "stream",
     "text": [
      "This is count 1\n",
      "This is count 2\n",
      "This is count 3\n",
      "This is count 4\n",
      "This is count 5\n",
      "A fruit of type: apples\n",
      "A fruit of type: oranges\n",
      "A fruit of type: pears\n",
      "A fruit of type: apricots\n",
      "I got a 1\n",
      "I got a 'pennies'\n",
      "I got a 2\n",
      "I got a 'dimes'\n",
      "I got a 3\n",
      "I got a 'quarters'\n",
      "Adding 0 to the list.\n",
      "Adding 1 to the list.\n",
      "Adding 2 to the list.\n",
      "Adding 3 to the list.\n",
      "Adding 4 to the list.\n",
      "Adding 5 to the list.\n",
      "Element was: 0\n",
      "Element was: 1\n",
      "Element was: 2\n",
      "Element was: 3\n",
      "Element was: 4\n",
      "Element was: 5\n"
     ]
    }
   ],
   "source": [
    "the_count = [1,2,3,4,5]\n",
    "fruits = ['apples','oranges','pears','apricots']\n",
    "change = [1,'pennies',2,'dimes',3,'quarters']\n",
    "\n",
    "# this first kind of for-loop goes through a list.\n",
    "\n",
    "for number in the_count:\n",
    "    print \"This is count %d\" % number\n",
    "    \n",
    "# same as above\n",
    "for fruit in fruits:\n",
    "    print \"A fruit of type: %s\" % fruit\n",
    "    \n",
    "# also we can go through a mixed list too\n",
    "# notice we have to use %r since we don't know what's in it\n",
    "\n",
    "for i in change:\n",
    "    print \"I got a %r\" % i\n",
    "    \n",
    "elements = []\n",
    "\n",
    "# then use a range function to do 0 to 5 counts.\n",
    "\n",
    "for i in range(0,6):\n",
    "    print \"Adding %d to the list.\" % i\n",
    "    elements.append(i)\n",
    "    \n",
    "# Now we can print them too.\n",
    "\n",
    "for i in elements:\n",
    "    print \"Element was: %d\" % i"
   ]
  },
  {
   "cell_type": "code",
   "execution_count": 5,
   "metadata": {
    "collapsed": true
   },
   "outputs": [],
   "source": [
    "elements = range(0,6)"
   ]
  },
  {
   "cell_type": "code",
   "execution_count": 6,
   "metadata": {
    "collapsed": false
   },
   "outputs": [
    {
     "data": {
      "text/plain": [
       "[0, 1, 2, 3, 4, 5]"
      ]
     },
     "execution_count": 6,
     "metadata": {},
     "output_type": "execute_result"
    }
   ],
   "source": [
    "elements"
   ]
  },
  {
   "cell_type": "code",
   "execution_count": 7,
   "metadata": {
    "collapsed": true
   },
   "outputs": [],
   "source": [
    "new_element = range(1,10)"
   ]
  },
  {
   "cell_type": "code",
   "execution_count": 8,
   "metadata": {
    "collapsed": false
   },
   "outputs": [
    {
     "data": {
      "text/plain": [
       "[1, 2, 3, 4, 5, 6, 7, 8, 9]"
      ]
     },
     "execution_count": 8,
     "metadata": {},
     "output_type": "execute_result"
    }
   ],
   "source": [
    "new_element"
   ]
  },
  {
   "cell_type": "code",
   "execution_count": 9,
   "metadata": {
    "collapsed": true
   },
   "outputs": [],
   "source": [
    "two_d_list = [[1,2,3],[4,5,6]]"
   ]
  },
  {
   "cell_type": "code",
   "execution_count": 10,
   "metadata": {
    "collapsed": false
   },
   "outputs": [
    {
     "data": {
      "text/plain": [
       "6"
      ]
     },
     "execution_count": 10,
     "metadata": {},
     "output_type": "execute_result"
    }
   ],
   "source": [
    "two_d_list[1][2]"
   ]
  }
 ],
 "metadata": {
  "kernelspec": {
   "display_name": "Python 2",
   "language": "python",
   "name": "python2"
  },
  "language_info": {
   "codemirror_mode": {
    "name": "ipython",
    "version": 2
   },
   "file_extension": ".py",
   "mimetype": "text/x-python",
   "name": "python",
   "nbconvert_exporter": "python",
   "pygments_lexer": "ipython2",
   "version": "2.7.10"
  }
 },
 "nbformat": 4,
 "nbformat_minor": 0
}
