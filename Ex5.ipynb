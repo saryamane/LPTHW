{
 "cells": [
  {
   "cell_type": "code",
   "execution_count": 1,
   "metadata": {
    "collapsed": true
   },
   "outputs": [],
   "source": [
    "my_name = \"Samir C. Aryamane\"\n",
    "my_age = 31 # not a lie\n",
    "my_height = 74 #inches\n",
    "my_weight = 195 # lbs\n",
    "my_eyes = \"Black\"\n",
    "my_teeth = 'White'\n",
    "my_hair = \"Black\""
   ]
  },
  {
   "cell_type": "code",
   "execution_count": 2,
   "metadata": {
    "collapsed": false
   },
   "outputs": [
    {
     "name": "stdout",
     "output_type": "stream",
     "text": [
      "Let's talk about Samir C. Aryamane.\n"
     ]
    }
   ],
   "source": [
    "print \"Let's talk about %s.\" %my_name"
   ]
  },
  {
   "cell_type": "code",
   "execution_count": 3,
   "metadata": {
    "collapsed": false
   },
   "outputs": [
    {
     "name": "stdout",
     "output_type": "stream",
     "text": [
      "He's 74 inches tall.\n"
     ]
    }
   ],
   "source": [
    "print \"He's %d inches tall.\" %my_height"
   ]
  },
  {
   "cell_type": "code",
   "execution_count": 4,
   "metadata": {
    "collapsed": false
   },
   "outputs": [
    {
     "name": "stdout",
     "output_type": "stream",
     "text": [
      "He's 195 pounds heavy.\n"
     ]
    }
   ],
   "source": [
    "print \"He's %d pounds heavy.\" %my_weight"
   ]
  },
  {
   "cell_type": "code",
   "execution_count": 5,
   "metadata": {
    "collapsed": false
   },
   "outputs": [
    {
     "name": "stdout",
     "output_type": "stream",
     "text": [
      "Actually that's not too heavy.\n"
     ]
    }
   ],
   "source": [
    "print \"Actually that's not too heavy.\""
   ]
  },
  {
   "cell_type": "code",
   "execution_count": 6,
   "metadata": {
    "collapsed": false
   },
   "outputs": [
    {
     "name": "stdout",
     "output_type": "stream",
     "text": [
      "He's got Black eyes and Black hair.\n"
     ]
    }
   ],
   "source": [
    "print \"He's got %s eyes and %s hair.\" %(my_eyes, my_hair)"
   ]
  },
  {
   "cell_type": "code",
   "execution_count": 7,
   "metadata": {
    "collapsed": false
   },
   "outputs": [
    {
     "name": "stdout",
     "output_type": "stream",
     "text": [
      "His teeth are usually White depending on the coffee\n"
     ]
    }
   ],
   "source": [
    "print \"His teeth are usually %s depending on the coffee\" %my_teeth"
   ]
  },
  {
   "cell_type": "code",
   "execution_count": 8,
   "metadata": {
    "collapsed": true
   },
   "outputs": [],
   "source": [
    "# This line is tricky"
   ]
  },
  {
   "cell_type": "code",
   "execution_count": 9,
   "metadata": {
    "collapsed": false
   },
   "outputs": [
    {
     "name": "stdout",
     "output_type": "stream",
     "text": [
      "If I add 31, 74, and 195 I get 300.\n"
     ]
    }
   ],
   "source": [
    "print \"If I add %d, %d, and %d I get %d.\" %(\n",
    "    my_age, my_height, my_weight, my_age + my_height + my_weight)"
   ]
  },
  {
   "cell_type": "code",
   "execution_count": 10,
   "metadata": {
    "collapsed": false
   },
   "outputs": [
    {
     "name": "stdout",
     "output_type": "stream",
     "text": [
      "The string is: \"Print this however this i'd be\"\n"
     ]
    }
   ],
   "source": [
    "string = \"Print this however this i'd be\"\n",
    "print \"The string is: %r\" %(string)"
   ]
  },
  {
   "cell_type": "code",
   "execution_count": 11,
   "metadata": {
    "collapsed": false
   },
   "outputs": [
    {
     "name": "stdout",
     "output_type": "stream",
     "text": [
      "2.0\n"
     ]
    }
   ],
   "source": [
    "print round(1.734343)"
   ]
  },
  {
   "cell_type": "code",
   "execution_count": 16,
   "metadata": {
    "collapsed": false
   },
   "outputs": [
    {
     "name": "stdout",
     "output_type": "stream",
     "text": [
      "The area of the circle is 314.000000\n"
     ]
    }
   ],
   "source": [
    "pi = 3.14\n",
    "radius = 10\n",
    "\n",
    "print \"The area of the circle is %f\" % (pi * radius * radius)"
   ]
  }
 ],
 "metadata": {
  "kernelspec": {
   "display_name": "Python 2",
   "language": "python",
   "name": "python2"
  },
  "language_info": {
   "codemirror_mode": {
    "name": "ipython",
    "version": 2
   },
   "file_extension": ".py",
   "mimetype": "text/x-python",
   "name": "python",
   "nbconvert_exporter": "python",
   "pygments_lexer": "ipython2",
   "version": "2.7.10"
  }
 },
 "nbformat": 4,
 "nbformat_minor": 0
}
