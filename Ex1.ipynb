{
 "cells": [
  {
   "cell_type": "code",
   "execution_count": 4,
   "metadata": {
    "collapsed": false
   },
   "outputs": [
    {
     "data": {
      "text/plain": [
       "u'/Users/saryamane/Desktop/Learn Python The Hard Way 3rd Edition/example_practise'"
      ]
     },
     "execution_count": 4,
     "metadata": {},
     "output_type": "execute_result"
    }
   ],
   "source": [
    "pwd"
   ]
  },
  {
   "cell_type": "code",
   "execution_count": 15,
   "metadata": {
    "collapsed": false
   },
   "outputs": [
    {
     "name": "stdout",
     "output_type": "stream",
     "text": [
      "Hello World!\n",
      "Hello Again!\n",
      "I like typing this\n",
      "This is fun!\n",
      "Yay! Printing\n",
      "I'd rather much you 'not'\n",
      "I said \"do not\" touch this\n"
     ]
    }
   ],
   "source": [
    "print \"Hello World!\"\n",
    "print \"Hello Again!\"\n",
    "print \"I like typing this\"\n",
    "print \"This is fun!\"\n",
    "print \"Yay! Printing\"\n",
    "print \"I'd rather much you 'not'\"\n",
    "print 'I said \"do not\" touch this'"
   ]
  },
  {
   "cell_type": "code",
   "execution_count": 13,
   "metadata": {
    "collapsed": false
   },
   "outputs": [
    {
     "name": "stdout",
     "output_type": "stream",
     "text": [
      "Ex1.ipynb\r\n"
     ]
    }
   ],
   "source": [
    "ls"
   ]
  },
  {
   "cell_type": "code",
   "execution_count": 19,
   "metadata": {
    "collapsed": false
   },
   "outputs": [
    {
     "name": "stdout",
     "output_type": "stream",
     "text": [
      "Print another line!\n",
      "\n",
      "This is a new line!\n"
     ]
    }
   ],
   "source": [
    "print \"Print another line!\"\n",
    "print\n",
    "print \"This is a new line!\"\n",
    "# See this is how a space is introduced between lines, and this also demonstrates the use of # for commenting."
   ]
  },
  {
   "cell_type": "code",
   "execution_count": null,
   "metadata": {
    "collapsed": true
   },
   "outputs": [],
   "source": []
  }
 ],
 "metadata": {
  "kernelspec": {
   "display_name": "Python 2",
   "language": "python",
   "name": "python2"
  },
  "language_info": {
   "codemirror_mode": {
    "name": "ipython",
    "version": 2
   },
   "file_extension": ".py",
   "mimetype": "text/x-python",
   "name": "python",
   "nbconvert_exporter": "python",
   "pygments_lexer": "ipython2",
   "version": "2.7.10"
  }
 },
 "nbformat": 4,
 "nbformat_minor": 0
}
