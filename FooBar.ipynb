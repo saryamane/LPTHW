{
 "cells": [
  {
   "cell_type": "code",
   "execution_count": 21,
   "metadata": {
    "collapsed": false
   },
   "outputs": [],
   "source": [
    "def foo_bar(n):\n",
    "    for i in range(n):\n",
    "        if (i == 0):    \n",
    "            pass\n",
    "        elif (i % 15 == 0):\n",
    "            print \"FooBar\"\n",
    "        elif (i % 3 == 0):\n",
    "            print \"Foo\"\n",
    "        elif (i % 5 == 0):\n",
    "            print \"Bar\"\n",
    "        else:\n",
    "            print i\n",
    "            "
   ]
  },
  {
   "cell_type": "code",
   "execution_count": 22,
   "metadata": {
    "collapsed": false
   },
   "outputs": [
    {
     "name": "stdout",
     "output_type": "stream",
     "text": [
      "1\n",
      "2\n",
      "Foo\n",
      "4\n",
      "Bar\n",
      "Foo\n",
      "7\n",
      "8\n",
      "Foo\n",
      "Bar\n",
      "11\n",
      "Foo\n",
      "13\n",
      "14\n"
     ]
    }
   ],
   "source": [
    "foo_bar(15)"
   ]
  }
 ],
 "metadata": {
  "kernelspec": {
   "display_name": "Python 2",
   "language": "python",
   "name": "python2"
  },
  "language_info": {
   "codemirror_mode": {
    "name": "ipython",
    "version": 2
   },
   "file_extension": ".py",
   "mimetype": "text/x-python",
   "name": "python",
   "nbconvert_exporter": "python",
   "pygments_lexer": "ipython2",
   "version": "2.7.10"
  }
 },
 "nbformat": 4,
 "nbformat_minor": 0
}
