{
 "cells": [
  {
   "cell_type": "code",
   "execution_count": 1,
   "metadata": {
    "collapsed": true
   },
   "outputs": [],
   "source": [
    "things = ['a','b','c','d']"
   ]
  },
  {
   "cell_type": "code",
   "execution_count": 2,
   "metadata": {
    "collapsed": false
   },
   "outputs": [
    {
     "name": "stdout",
     "output_type": "stream",
     "text": [
      "b\n"
     ]
    }
   ],
   "source": [
    "print things[1]"
   ]
  },
  {
   "cell_type": "code",
   "execution_count": 3,
   "metadata": {
    "collapsed": true
   },
   "outputs": [],
   "source": [
    "things[1] = 'z'"
   ]
  },
  {
   "cell_type": "code",
   "execution_count": 4,
   "metadata": {
    "collapsed": false
   },
   "outputs": [
    {
     "data": {
      "text/plain": [
       "['a', 'z', 'c', 'd']"
      ]
     },
     "execution_count": 4,
     "metadata": {},
     "output_type": "execute_result"
    }
   ],
   "source": [
    "things"
   ]
  },
  {
   "cell_type": "code",
   "execution_count": 5,
   "metadata": {
    "collapsed": true
   },
   "outputs": [],
   "source": [
    "stuff = {'name':'Samir', 'age':32, 'height': 6 * 12 + 2}"
   ]
  },
  {
   "cell_type": "code",
   "execution_count": 7,
   "metadata": {
    "collapsed": false
   },
   "outputs": [
    {
     "name": "stdout",
     "output_type": "stream",
     "text": [
      "Samir\n"
     ]
    }
   ],
   "source": [
    "print stuff['name']"
   ]
  },
  {
   "cell_type": "code",
   "execution_count": 8,
   "metadata": {
    "collapsed": false
   },
   "outputs": [
    {
     "name": "stdout",
     "output_type": "stream",
     "text": [
      "32\n"
     ]
    }
   ],
   "source": [
    "print stuff['age']"
   ]
  },
  {
   "cell_type": "code",
   "execution_count": 9,
   "metadata": {
    "collapsed": true
   },
   "outputs": [],
   "source": [
    "stuff['city'] = 'San Francisco'"
   ]
  },
  {
   "cell_type": "code",
   "execution_count": 10,
   "metadata": {
    "collapsed": false
   },
   "outputs": [
    {
     "name": "stdout",
     "output_type": "stream",
     "text": [
      "San Francisco\n"
     ]
    }
   ],
   "source": [
    "print stuff['city']"
   ]
  },
  {
   "cell_type": "code",
   "execution_count": 11,
   "metadata": {
    "collapsed": true
   },
   "outputs": [],
   "source": [
    "stuff[1] = \"Wow\""
   ]
  },
  {
   "cell_type": "code",
   "execution_count": 12,
   "metadata": {
    "collapsed": true
   },
   "outputs": [],
   "source": [
    "stuff[2] = \"Naeto\""
   ]
  },
  {
   "cell_type": "code",
   "execution_count": 13,
   "metadata": {
    "collapsed": false
   },
   "outputs": [
    {
     "name": "stdout",
     "output_type": "stream",
     "text": [
      "Wow\n"
     ]
    }
   ],
   "source": [
    "print stuff[1]"
   ]
  },
  {
   "cell_type": "code",
   "execution_count": 14,
   "metadata": {
    "collapsed": false
   },
   "outputs": [
    {
     "data": {
      "text/plain": [
       "{1: 'Wow',\n",
       " 2: 'Naeto',\n",
       " 'age': 32,\n",
       " 'city': 'San Francisco',\n",
       " 'height': 74,\n",
       " 'name': 'Samir'}"
      ]
     },
     "execution_count": 14,
     "metadata": {},
     "output_type": "execute_result"
    }
   ],
   "source": [
    "stuff"
   ]
  },
  {
   "cell_type": "code",
   "execution_count": 15,
   "metadata": {
    "collapsed": true
   },
   "outputs": [],
   "source": [
    "del stuff['city']"
   ]
  },
  {
   "cell_type": "code",
   "execution_count": 16,
   "metadata": {
    "collapsed": false
   },
   "outputs": [
    {
     "data": {
      "text/plain": [
       "{1: 'Wow', 2: 'Naeto', 'age': 32, 'height': 74, 'name': 'Samir'}"
      ]
     },
     "execution_count": 16,
     "metadata": {},
     "output_type": "execute_result"
    }
   ],
   "source": [
    "stuff"
   ]
  },
  {
   "cell_type": "code",
   "execution_count": 17,
   "metadata": {
    "collapsed": true
   },
   "outputs": [],
   "source": [
    "del stuff[1]"
   ]
  },
  {
   "cell_type": "code",
   "execution_count": 18,
   "metadata": {
    "collapsed": true
   },
   "outputs": [],
   "source": [
    "del stuff[2]"
   ]
  },
  {
   "cell_type": "code",
   "execution_count": 20,
   "metadata": {
    "collapsed": false
   },
   "outputs": [
    {
     "name": "stdout",
     "output_type": "stream",
     "text": [
      "----------\n",
      "NY state has:  New York\n",
      "OR State has:  Portland\n",
      "----------\n",
      "Michigan's abbreviation is:  MI\n",
      "Florida's abbreviation is:  FL\n",
      "----------\n",
      "Michigan has:  Detroit\n",
      "Florida has:  Jacksonville\n",
      "----------\n",
      "California is abbreviated as CA\n",
      "Michigan is abbreviated as MI\n",
      "New York is abbreviated as NY\n",
      "Florida is abbreviated as FL\n",
      "Oregon is abbreviated as OR\n",
      "----------\n",
      "FL has the city of Jacksonville\n",
      "CA has the city of San Francisco\n",
      "MI has the city of Detroit\n",
      "OR has the city of Portland\n",
      "NY has the city of New York\n",
      "----------\n",
      "California state is abbreviated CA and has the city San Francisco\n",
      "Michigan state is abbreviated MI and has the city Detroit\n",
      "New York state is abbreviated NY and has the city New York\n",
      "Florida state is abbreviated FL and has the city Jacksonville\n",
      "Oregon state is abbreviated OR and has the city Portland\n",
      "----------\n",
      "Sorry, no Texas.\n",
      "The city for the state of 'TX' is: Does not exists\n"
     ]
    }
   ],
   "source": [
    "# creating a mapping of state to abbreviation\n",
    "\n",
    "states = {\n",
    "    'Oregon': 'OR',\n",
    "    'Florida':'FL',\n",
    "    'California':'CA',\n",
    "    'New York':'NY',\n",
    "    'Michigan':'MI'\n",
    "}\n",
    "\n",
    "cities = {\n",
    "    'CA': 'San Francisco',\n",
    "    'MI':'Detroit',\n",
    "    'FL':'Jacksonville'\n",
    "}\n",
    "\n",
    "# add some more cities\n",
    "cities['NY'] = 'New York'\n",
    "cities['OR'] = 'Portland'\n",
    "\n",
    "# print out some cities\n",
    "\n",
    "print '-' * 10\n",
    "print \"NY state has: \", cities['NY']\n",
    "print \"OR State has: \", cities['OR']\n",
    "\n",
    "# print some states\n",
    "print \"-\" * 10\n",
    "print \"Michigan's abbreviation is: \", states['Michigan']\n",
    "print \"Florida's abbreviation is: \", states['Florida']\n",
    "\n",
    "# do it by using the state then cities dict\n",
    "print \"-\" * 10\n",
    "print \"Michigan has: \", cities[states['Michigan']]\n",
    "print \"Florida has: \", cities[states['Florida']]\n",
    "\n",
    "# print every state abbreviation\n",
    "print \"-\" * 10\n",
    "for state, abbrev in states.items():\n",
    "    print \"%s is abbreviated as %s\" %(state, abbrev)\n",
    "    \n",
    "# print every city in state\n",
    "print \"-\" * 10\n",
    "for abbrev, city in cities.items():\n",
    "    print \"%s has the city of %s\" %(abbrev, city)\n",
    "    \n",
    "# Now do both at the same time\n",
    "print \"-\" * 10\n",
    "for state, abbrev in states.items():\n",
    "    print \"%s state is abbreviated %s and has the city %s\" %(state, abbrev, cities[abbrev])\n",
    "    \n",
    "print \"-\" * 10\n",
    "state = states.get('Texas')\n",
    "\n",
    "if not state:\n",
    "    print \"Sorry, no Texas.\"\n",
    "    \n",
    "# get a city with default value\n",
    "city = cities.get('TX','Does not exists')\n",
    "print \"The city for the state of 'TX' is: %s\" %(city)"
   ]
  },
  {
   "cell_type": "code",
   "execution_count": 21,
   "metadata": {
    "collapsed": true
   },
   "outputs": [],
   "source": [
    "# Let us now implement our own dictionary data structure."
   ]
  },
  {
   "cell_type": "code",
   "execution_count": 22,
   "metadata": {
    "collapsed": true
   },
   "outputs": [],
   "source": [
    "# Save this file as hashmap.py\n",
    "\n",
    "def new(num_buckets=256):\n",
    "    \"\"\"Initialize a Map with a given number of buckets.\"\"\"\n",
    "    aMap = []\n",
    "    for i in range(0, num_buckets):\n",
    "        aMap.append([]) # Creates another list of list with 256 list buckets.\n",
    "    return aMap\n",
    "\n",
    "def hash_key(aMap, key):\n",
    "    \"\"\"Given a key this will create a number and then convert\n",
    "    it to an index for the aMap's buckets.\"\"\"\n",
    "    return hash(key) % len(aMap)\n",
    "\n",
    "def get_bucket(aMap, key):\n",
    "    \"\"\"Given a key, find the bucket, where it would go.\"\"\"\n",
    "    bucket_id = hash_key(aMap, key)\n",
    "    return aMap[bucket_id]\n",
    "\n",
    "def get_slot(aMap, key, default=None):\n",
    "    \"\"\"Returns the index,key and a value of a slot found in \n",
    "    a bucket. Returns a -1, key and default (none), if not set,\n",
    "    when not found.\"\"\"\n",
    "    bucket = get_bucket(aMap, key)\n",
    "    \n",
    "    for i, kv in enumerate(bucket):\n",
    "        k,v = kv\n",
    "        if key == k:\n",
    "            return i, k, v\n",
    "    return -1, k, default\n",
    "\n",
    "def get(aMap, key, default=None):\n",
    "    \"\"\"Gets the value in a bucket, for a given key, or the defualt\"\"\"\n",
    "    i, k, v = get_slot(aMap, key, default = default)\n",
    "    return v\n",
    "\n",
    "def set(aMap, key, value):\n",
    "    \"\"\"Sets the key to the value, replacing any existing value\"\"\"\n",
    "    bucket = get_bucket(aMap, key)\n",
    "    i, k, v = get_slot(aMap, key)\n",
    "    \n",
    "    if i > 0:\n",
    "        # the key exists, replace it\n",
    "        bucket[i] = (key, value)\n",
    "    else:\n",
    "        # the key does not exists, append to create it\n",
    "        bucket.append((key, value))\n",
    "        \n",
    "def delete(aMap, key):\n",
    "    \"\"\"Deletes a given key from the Map.\"\"\"\n",
    "    bucket = get_bucket(aMap, key)\n",
    "    \n",
    "    for i in xrange(len(bucket)):\n",
    "        k, v = bucket[i]\n",
    "        if key == k:\n",
    "            del bucket[i]\n",
    "            break\n",
    "\n",
    "def list(aMap):\n",
    "    \"\"\"Prints out what's in the Map.\"\"\"\n",
    "    for bucket in aMap:\n",
    "        if bucket:\n",
    "            for k,v in bucket:\n",
    "                print k, v\n",
    "                \n",
    "def dump(aMap):\n",
    "    \"\"\"Print the individual buckets in a hashmap.\"\"\"\n",
    "    for bucket in aMap:\n",
    "        print bucket"
   ]
  },
  {
   "cell_type": "code",
   "execution_count": null,
   "metadata": {
    "collapsed": true
   },
   "outputs": [],
   "source": [
    "import hashmap # Import the above stored file."
   ]
  },
  {
   "cell_type": "code",
   "execution_count": null,
   "metadata": {
    "collapsed": true
   },
   "outputs": [],
   "source": [
    "states = hashmap.new()\n",
    "hashmap.set(states, 'Oregon','OR')\n",
    "hashmap.set(states, 'Florida','FL')\n",
    "hashmap.set(states, 'California','CA')\n",
    "hashmap.set(states, 'New York','NY')\n",
    "hashmap.set(states, 'Michigan','MI')\n",
    "\n",
    "# create a basic set of states and some cities in them\n",
    "\n",
    "cities = hashmap.new()\n",
    "hashmap.set(cities, 'CA','San Francisco')\n",
    "hashmap.set(cities, 'MI','Detroit')\n",
    "hashmap.set(cities, 'FL','Jacksonville')\n",
    "\n",
    "# Add some more cities\n",
    "\n",
    "hashmap.set(cities, 'NY','New York')\n",
    "hashmap.set(cities, 'OR','Portland')\n",
    "\n",
    "# print out some cities\n",
    "\n",
    "print '-' * 10\n",
    "print \"NY state has: %s\" % hashmap.get(cities,'NY')\n",
    "print \"OR state has: %s\" % hashmap.get(cities,'OR')\n",
    "\n",
    "# print some states.\n",
    "print '-' * 10\n",
    "print \"Michigan's abbreviation is: %s\" %hashmap.get(states, 'Michigan')\n",
    "print \"Florida's abbreviation is: %s\" %hashmap.get(states, 'Florida')\n",
    "\n",
    "# do it by using the state then cities dict\n",
    "\n",
    "print '-' * 10\n",
    "print \"Michigan has: %s\" %hashmap.get(cities, hashmap.get(states, 'Michigan'))\n",
    "print \"Florida has: %s\" %hashmap.get(cities, hashmap.get(states, 'Florida'))\n",
    "\n",
    "# print every states abbreviation\n",
    "\n",
    "print '-' * 10\n",
    "hashmap.list(states)\n",
    "\n",
    "# Print every city in state\n",
    "\n",
    "print '-' * 10\n",
    "hashmap.list(cities)\n",
    "\n",
    "print '-' * 10\n",
    "print hashmap.get(states, 'Texas')\n",
    "\n",
    "if not state:\n",
    "    print \"Sorry, no Texas.\"\n",
    "    \n",
    "city = hashmap.get(cities, 'TX', 'Does not exists')\n",
    "print \"The city for the state of TX is %s\" % city"
   ]
  },
  {
   "cell_type": "code",
   "execution_count": 23,
   "metadata": {
    "collapsed": false
   },
   "outputs": [
    {
     "data": {
      "text/plain": [
       "-5484832051768499227"
      ]
     },
     "execution_count": 23,
     "metadata": {},
     "output_type": "execute_result"
    }
   ],
   "source": [
    "hash('Samir')"
   ]
  },
  {
   "cell_type": "code",
   "execution_count": 26,
   "metadata": {
    "collapsed": false
   },
   "outputs": [
    {
     "data": {
      "text/plain": [
       "8"
      ]
     },
     "execution_count": 26,
     "metadata": {},
     "output_type": "execute_result"
    }
   ],
   "source": [
    "hash('Samir') % 15"
   ]
  },
  {
   "cell_type": "code",
   "execution_count": 27,
   "metadata": {
    "collapsed": true
   },
   "outputs": [],
   "source": [
    "# What if I need a sorted dictionary"
   ]
  },
  {
   "cell_type": "code",
   "execution_count": 28,
   "metadata": {
    "collapsed": true
   },
   "outputs": [],
   "source": [
    "# Then look for something which is called \n",
    "# collections.OrderedDict data structure in Python."
   ]
  },
  {
   "cell_type": "code",
   "execution_count": null,
   "metadata": {
    "collapsed": true
   },
   "outputs": [],
   "source": []
  }
 ],
 "metadata": {
  "kernelspec": {
   "display_name": "Python 2",
   "language": "python",
   "name": "python2"
  },
  "language_info": {
   "codemirror_mode": {
    "name": "ipython",
    "version": 2
   },
   "file_extension": ".py",
   "mimetype": "text/x-python",
   "name": "python",
   "nbconvert_exporter": "python",
   "pygments_lexer": "ipython2",
   "version": "2.7.10"
  }
 },
 "nbformat": 4,
 "nbformat_minor": 0
}
