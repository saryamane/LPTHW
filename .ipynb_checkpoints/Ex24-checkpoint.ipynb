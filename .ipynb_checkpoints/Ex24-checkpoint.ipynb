{
 "cells": [
  {
   "cell_type": "code",
   "execution_count": 1,
   "metadata": {
    "collapsed": false
   },
   "outputs": [
    {
     "name": "stdout",
     "output_type": "stream",
     "text": [
      "Let's practise everything.\n",
      "You'd need to know 'bout escapes with \\ that do \n",
      " newline and \t tabs.\n"
     ]
    }
   ],
   "source": [
    "print \"Let's practise everything.\"\n",
    "print 'You\\'d need to know \\'bout escapes with \\\\ that do \\n newline and \\t tabs.'"
   ]
  },
  {
   "cell_type": "code",
   "execution_count": 4,
   "metadata": {
    "collapsed": true
   },
   "outputs": [],
   "source": [
    "poem = \"\"\"\n",
    "\\tThe lovely world\n",
    "with logic so firmly planted\n",
    "cannot discern \\n the needs of love\n",
    "nor comprehend passion from intuition\n",
    "and requires an explanation\n",
    "\\n\\t\\twhere there is none.\n",
    "\"\"\""
   ]
  },
  {
   "cell_type": "code",
   "execution_count": 5,
   "metadata": {
    "collapsed": false
   },
   "outputs": [
    {
     "name": "stdout",
     "output_type": "stream",
     "text": [
      "---------------\n",
      "\n",
      "\tThe lovely world\n",
      "with logic so firmly planted\n",
      "cannot discern \n",
      " the needs of love\n",
      "nor comprehend passion from intuition\n",
      "and requires an explanation\n",
      "\n",
      "\t\twhere there is none.\n",
      "\n",
      "---------------\n"
     ]
    }
   ],
   "source": [
    "print \"---------------\"\n",
    "print poem\n",
    "print \"---------------\""
   ]
  },
  {
   "cell_type": "code",
   "execution_count": 6,
   "metadata": {
    "collapsed": true
   },
   "outputs": [],
   "source": [
    "five = 10 - 2 + 3 -6"
   ]
  },
  {
   "cell_type": "code",
   "execution_count": 7,
   "metadata": {
    "collapsed": false
   },
   "outputs": [
    {
     "name": "stdout",
     "output_type": "stream",
     "text": [
      "This should be five: 5\n"
     ]
    }
   ],
   "source": [
    "print \"This should be five: %s\" % five"
   ]
  },
  {
   "cell_type": "code",
   "execution_count": 8,
   "metadata": {
    "collapsed": true
   },
   "outputs": [],
   "source": [
    "def secret_formula(started):\n",
    "    jelly_beans = started * 500\n",
    "    jars = jelly_beans / 1000\n",
    "    crates = jars / 100\n",
    "    return jelly_beans, jars, crates"
   ]
  },
  {
   "cell_type": "code",
   "execution_count": 9,
   "metadata": {
    "collapsed": true
   },
   "outputs": [],
   "source": [
    "start_point = 10000\n",
    "beans, jars, crates = secret_formula(start_point)"
   ]
  },
  {
   "cell_type": "code",
   "execution_count": 10,
   "metadata": {
    "collapsed": false
   },
   "outputs": [
    {
     "name": "stdout",
     "output_type": "stream",
     "text": [
      "With a starting point of: 10000\n",
      "We'd have 5000000 beans, 5000 jars, and 50 crates\n"
     ]
    }
   ],
   "source": [
    "print \"With a starting point of: %d\" % start_point\n",
    "print \"We'd have %d beans, %d jars, and %d crates\" %(beans, jars, crates)"
   ]
  },
  {
   "cell_type": "code",
   "execution_count": 11,
   "metadata": {
    "collapsed": false
   },
   "outputs": [
    {
     "name": "stdout",
     "output_type": "stream",
     "text": [
      "We can also do that this way:\n"
     ]
    }
   ],
   "source": [
    "start_point = start_point / 10\n",
    "print \"We can also do that this way:\""
   ]
  },
  {
   "cell_type": "code",
   "execution_count": 12,
   "metadata": {
    "collapsed": false
   },
   "outputs": [
    {
     "name": "stdout",
     "output_type": "stream",
     "text": [
      "We'd have 500000 beans, 500 jars, and 5 crates.\n"
     ]
    }
   ],
   "source": [
    "print \"We'd have %d beans, %d jars, and %d crates.\" % secret_formula(start_point)"
   ]
  },
  {
   "cell_type": "code",
   "execution_count": null,
   "metadata": {
    "collapsed": true
   },
   "outputs": [],
   "source": []
  }
 ],
 "metadata": {
  "kernelspec": {
   "display_name": "Python 2",
   "language": "python",
   "name": "python2"
  },
  "language_info": {
   "codemirror_mode": {
    "name": "ipython",
    "version": 2
   },
   "file_extension": ".py",
   "mimetype": "text/x-python",
   "name": "python",
   "nbconvert_exporter": "python",
   "pygments_lexer": "ipython2",
   "version": "2.7.10"
  }
 },
 "nbformat": 4,
 "nbformat_minor": 0
}
