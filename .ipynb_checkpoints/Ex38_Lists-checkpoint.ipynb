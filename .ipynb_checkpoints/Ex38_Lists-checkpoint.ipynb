{
 "cells": [
  {
   "cell_type": "code",
   "execution_count": 1,
   "metadata": {
    "collapsed": false
   },
   "outputs": [
    {
     "name": "stdout",
     "output_type": "stream",
     "text": [
      "Wait there are not 10 things in that list. Let's fix that.\n",
      "Adding:  Boy\n",
      "There are 7 items now.\n",
      "Adding:  Girl\n",
      "There are 8 items now.\n",
      "Adding:  Banana\n",
      "There are 9 items now.\n",
      "Adding:  Corn\n",
      "There are 10 items now.\n",
      "There we go:  ['Apples', 'Oranges', 'Crows', 'Telephone', 'Light', 'Sugar', 'Boy', 'Girl', 'Banana', 'Corn']\n",
      "Let's do some things with stuff.\n",
      "Oranges\n",
      "Corn\n",
      "Corn\n",
      "Apples Oranges Crows Telephone Light Sugar Boy Girl Banana\n",
      "Telephone#Light\n"
     ]
    }
   ],
   "source": [
    "ten_things = \"Apples Oranges Crows Telephone Light Sugar\"\n",
    "\n",
    "print \"Wait there are not 10 things in that list. Let's fix that.\"\n",
    "\n",
    "stuff = ten_things.split(' ')\n",
    "\n",
    "more_stuff = [\"Day\", \"Night\", \"Song\", \"Firsbee\", \"Corn\", \"Banana\", \"Girl\", \"Boy\"]\n",
    "\n",
    "while len(stuff) != 10:\n",
    "    next_one = more_stuff.pop()\n",
    "    print \"Adding: \", next_one\n",
    "    stuff.append(next_one)\n",
    "    print \"There are %d items now.\" %len(stuff)\n",
    "    \n",
    "print \"There we go: \", stuff\n",
    "\n",
    "print \"Let's do some things with stuff.\"\n",
    "\n",
    "print stuff[1]\n",
    "print stuff[-1] # whoa! fancy\n",
    "print stuff.pop()\n",
    "print ' '.join(stuff) # what? cool!\n",
    "print '#'.join(stuff[3:5]) # super stellar!"
   ]
  },
  {
   "cell_type": "code",
   "execution_count": null,
   "metadata": {
    "collapsed": true
   },
   "outputs": [],
   "source": []
  }
 ],
 "metadata": {
  "kernelspec": {
   "display_name": "Python 2",
   "language": "python",
   "name": "python2"
  },
  "language_info": {
   "codemirror_mode": {
    "name": "ipython",
    "version": 2
   },
   "file_extension": ".py",
   "mimetype": "text/x-python",
   "name": "python",
   "nbconvert_exporter": "python",
   "pygments_lexer": "ipython2",
   "version": "2.7.10"
  }
 },
 "nbformat": 4,
 "nbformat_minor": 0
}
