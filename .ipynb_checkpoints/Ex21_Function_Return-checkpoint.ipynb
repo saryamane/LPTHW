{
 "cells": [
  {
   "cell_type": "code",
   "execution_count": 1,
   "metadata": {
    "collapsed": false
   },
   "outputs": [
    {
     "name": "stdout",
     "output_type": "stream",
     "text": [
      "Let's do some math with just functions!\n",
      "ADDING 30 + 5\n",
      "SUBTRACTING 78 - 4\n",
      "MULTIPLYING 90 * 2\n",
      "DIVIDING 100 / 2\n",
      "Age: 35, Height: 74, Weight: 180, IQ: 50\n",
      "Here is the puzzle\n",
      "DIVIDING 50 / 2\n",
      "MULTIPLYING 180 * 25\n",
      "SUBTRACTING 74 - 4500\n",
      "ADDING 35 + -4426\n",
      "That becomes:  -4391 Can you do it by hand?\n"
     ]
    }
   ],
   "source": [
    "def add(a,b):\n",
    "    print \"ADDING %d + %d\" %(a, b)\n",
    "    return a+b\n",
    "\n",
    "def subtract(a,b):\n",
    "    print \"SUBTRACTING %d - %d\" % (a, b)\n",
    "    return a-b\n",
    "\n",
    "def multiply(a,b):\n",
    "    print \"MULTIPLYING %d * %d\" %(a,b)\n",
    "    return a*b\n",
    "\n",
    "def divide(a,b):\n",
    "    print \"DIVIDING %d / %d\" %(a,b)\n",
    "    return a / b\n",
    "\n",
    "print \"Let's do some math with just functions!\"\n",
    "\n",
    "age = add(30, 5)\n",
    "height = subtract(78, 4)\n",
    "weight = multiply(90,2)\n",
    "iq = divide(100,2)\n",
    "\n",
    "print \"Age: %d, Height: %d, Weight: %d, IQ: %d\" %(age, height, weight, iq)\n",
    "\n",
    "print \"Here is the puzzle\"\n",
    "\n",
    "what = add(age, subtract(height, multiply(weight, divide(iq,2))))\n",
    "\n",
    "print \"That becomes: \", what, \"Can you do it by hand?\""
   ]
  },
  {
   "cell_type": "code",
   "execution_count": 2,
   "metadata": {
    "collapsed": false
   },
   "outputs": [
    {
     "name": "stdout",
     "output_type": "stream",
     "text": [
      "ADDING 2 + 3\n"
     ]
    },
    {
     "data": {
      "text/plain": [
       "5"
      ]
     },
     "execution_count": 2,
     "metadata": {},
     "output_type": "execute_result"
    }
   ],
   "source": [
    " add(2,3)"
   ]
  },
  {
   "cell_type": "code",
   "execution_count": 3,
   "metadata": {
    "collapsed": false
   },
   "outputs": [
    {
     "name": "stdout",
     "output_type": "stream",
     "text": [
      "SUBTRACTING 100 - 1023\n",
      "DIVIDING 34 / -923\n",
      "ADDING 24 + -1\n"
     ]
    },
    {
     "data": {
      "text/plain": [
       "23"
      ]
     },
     "execution_count": 3,
     "metadata": {},
     "output_type": "execute_result"
    }
   ],
   "source": [
    "add(24, divide(34, subtract(100, 1023)))"
   ]
  },
  {
   "cell_type": "code",
   "execution_count": 5,
   "metadata": {
    "collapsed": false
   },
   "outputs": [
    {
     "name": "stdout",
     "output_type": "stream",
     "text": [
      "Give me a float value?: 3.23\n",
      "ADDING 3 + 32\n"
     ]
    },
    {
     "data": {
      "text/plain": [
       "35.23"
      ]
     },
     "execution_count": 5,
     "metadata": {},
     "output_type": "execute_result"
    }
   ],
   "source": [
    "val1 = float(raw_input(\"Give me a float value?: \"))\n",
    "add(val1, 32)"
   ]
  },
  {
   "cell_type": "code",
   "execution_count": 6,
   "metadata": {
    "collapsed": true
   },
   "outputs": [],
   "source": [
    "# Make sure the print within the add matches the same datatype."
   ]
  }
 ],
 "metadata": {
  "kernelspec": {
   "display_name": "Python 2",
   "language": "python",
   "name": "python2"
  },
  "language_info": {
   "codemirror_mode": {
    "name": "ipython",
    "version": 2
   },
   "file_extension": ".py",
   "mimetype": "text/x-python",
   "name": "python",
   "nbconvert_exporter": "python",
   "pygments_lexer": "ipython2",
   "version": "2.7.10"
  }
 },
 "nbformat": 4,
 "nbformat_minor": 0
}
