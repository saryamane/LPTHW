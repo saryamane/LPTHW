{
 "cells": [
  {
   "cell_type": "code",
   "execution_count": 3,
   "metadata": {
    "collapsed": false
   },
   "outputs": [
    {
     "name": "stdout",
     "output_type": "stream",
     "text": [
      "Too many cats! The world is doomed!\n",
      "The world is dry!\n",
      "People are greater than or equal to dogs.\n",
      "People are less than or equal to dogs.\n",
      "People are dogs.\n"
     ]
    }
   ],
   "source": [
    "people = 20\n",
    "cats = 30\n",
    "dogs = 15\n",
    "\n",
    "if people < cats:\n",
    "    print \"Too many cats! The world is doomed!\"\n",
    "    \n",
    "if people > cats:\n",
    "    print \"Not many cats! The world is saved!\"\n",
    "    \n",
    "if people < dogs:\n",
    "    print \"The world is drooled on!\"\n",
    "    \n",
    "if people > dogs:\n",
    "    print \"The world is dry!\"\n",
    "    \n",
    "dogs += 5\n",
    "\n",
    "if people >= dogs:\n",
    "    print \"People are greater than or equal to dogs.\"\n",
    "    \n",
    "if people <= dogs:\n",
    "    print \"People are less than or equal to dogs.\"\n",
    "    \n",
    "if people == dogs:\n",
    "    print \"People are dogs.\""
   ]
  },
  {
   "cell_type": "code",
   "execution_count": 4,
   "metadata": {
    "collapsed": false
   },
   "outputs": [
    {
     "name": "stdout",
     "output_type": "stream",
     "text": [
      "We should take the cars.\n",
      "Maybe we could take the trucks.\n",
      "Alright, let's just take the trucks.\n"
     ]
    }
   ],
   "source": [
    "people = 30\n",
    "cars = 40\n",
    "trucks = 15\n",
    "\n",
    "if cars > people:\n",
    "    print \"We should take the cars.\"\n",
    "elif cars < people:\n",
    "    print \"We should not take the cars.\"\n",
    "else:\n",
    "    print \"We can't decide.\"\n",
    "    \n",
    "    \n",
    "if trucks > cars:\n",
    "    print \"That's too many trucks.\"\n",
    "elif trucks < cars:\n",
    "    print \"Maybe we could take the trucks.\"\n",
    "else:\n",
    "    print \"We still can't decide.\"\n",
    "    \n",
    "if people > trucks:\n",
    "    print \"Alright, let's just take the trucks.\"\n",
    "else:\n",
    "    print \"Fine, let's stay home then.\""
   ]
  }
 ],
 "metadata": {
  "kernelspec": {
   "display_name": "Python 2",
   "language": "python",
   "name": "python2"
  },
  "language_info": {
   "codemirror_mode": {
    "name": "ipython",
    "version": 2
   },
   "file_extension": ".py",
   "mimetype": "text/x-python",
   "name": "python",
   "nbconvert_exporter": "python",
   "pygments_lexer": "ipython2",
   "version": "2.7.10"
  }
 },
 "nbformat": 4,
 "nbformat_minor": 0
}
