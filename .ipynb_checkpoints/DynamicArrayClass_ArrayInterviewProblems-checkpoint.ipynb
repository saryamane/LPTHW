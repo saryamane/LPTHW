{
 "cells": [
  {
   "cell_type": "code",
   "execution_count": 1,
   "metadata": {
    "collapsed": true
   },
   "outputs": [],
   "source": [
    "import ctypes"
   ]
  },
  {
   "cell_type": "code",
   "execution_count": 2,
   "metadata": {
    "collapsed": true
   },
   "outputs": [],
   "source": [
    "class M(object):\n",
    "    def public(self):\n",
    "        print 'Use tab to see me'\n",
    "        \n",
    "    def _private(self):\n",
    "        print 'You will not see me if tabbed'"
   ]
  },
  {
   "cell_type": "code",
   "execution_count": 6,
   "metadata": {
    "collapsed": false
   },
   "outputs": [
    {
     "name": "stdout",
     "output_type": "stream",
     "text": [
      "Use tab to see me\n",
      "You will not see me if tabbed\n"
     ]
    }
   ],
   "source": [
    "m = M()\n",
    "m.public()\n",
    "m._private()"
   ]
  },
  {
   "cell_type": "code",
   "execution_count": 7,
   "metadata": {
    "collapsed": true
   },
   "outputs": [],
   "source": [
    "class DynamicArray(object):\n",
    "    \n",
    "    def __init__(self):\n",
    "        self.n = 0 # Count actual elements. Default it to 0\n",
    "        self.capacity = 1\n",
    "        self.A = self.make_array(self.capacity) # We will build this method\n",
    "    \n",
    "    def __len__(self):\n",
    "        return self.n\n",
    "    \n",
    "    def __getitem__(self,k):\n",
    "        \n",
    "        if not 0 <= k <= self.n:\n",
    "            return IndexError('k is out of bound!')\n",
    "        \n",
    "        return self.A[k]\n",
    "    \n",
    "    def append(self, ele):\n",
    "        if self.n == self.capacity:\n",
    "            self._resize(2*self.capacity) # 2X if capacity is met.\n",
    "            \n",
    "        self.A[self.n]= ele\n",
    "        self.n += 1\n",
    "        \n",
    "    def _resize(self, new_cap):\n",
    "        \n",
    "        B = self.make_array(new_cap) # Make a new bigger array\n",
    "        \n",
    "        for k in range(self.n):\n",
    "            B[k] = self.A[k]\n",
    "            \n",
    "        self.A = B\n",
    "        self.capacity = new_cap\n",
    "        \n",
    "    def make_array(self, new_cap):\n",
    "        \n",
    "        return (new_cap * ctypes.py_object)()\n",
    "          "
   ]
  },
  {
   "cell_type": "code",
   "execution_count": 8,
   "metadata": {
    "collapsed": true
   },
   "outputs": [],
   "source": [
    "arr = DynamicArray()"
   ]
  },
  {
   "cell_type": "code",
   "execution_count": 11,
   "metadata": {
    "collapsed": false
   },
   "outputs": [
    {
     "data": {
      "text/plain": [
       "0"
      ]
     },
     "execution_count": 11,
     "metadata": {},
     "output_type": "execute_result"
    }
   ],
   "source": [
    "len(arr)"
   ]
  },
  {
   "cell_type": "code",
   "execution_count": 12,
   "metadata": {
    "collapsed": true
   },
   "outputs": [],
   "source": [
    "arr.append(1)"
   ]
  },
  {
   "cell_type": "code",
   "execution_count": 13,
   "metadata": {
    "collapsed": false
   },
   "outputs": [
    {
     "data": {
      "text/plain": [
       "1"
      ]
     },
     "execution_count": 13,
     "metadata": {},
     "output_type": "execute_result"
    }
   ],
   "source": [
    "len(arr)"
   ]
  },
  {
   "cell_type": "code",
   "execution_count": 14,
   "metadata": {
    "collapsed": true
   },
   "outputs": [],
   "source": [
    "arr.append(2)"
   ]
  },
  {
   "cell_type": "code",
   "execution_count": 15,
   "metadata": {
    "collapsed": false
   },
   "outputs": [
    {
     "data": {
      "text/plain": [
       "2"
      ]
     },
     "execution_count": 15,
     "metadata": {},
     "output_type": "execute_result"
    }
   ],
   "source": [
    "len(arr)"
   ]
  },
  {
   "cell_type": "code",
   "execution_count": 18,
   "metadata": {
    "collapsed": false
   },
   "outputs": [],
   "source": [
    "import sys"
   ]
  },
  {
   "cell_type": "code",
   "execution_count": 28,
   "metadata": {
    "collapsed": true
   },
   "outputs": [
    {
     "name": "stdout",
     "output_type": "stream",
     "text": [
      "Length:   0; Size in bytes:   64 \n",
      "Length:   1; Size in bytes:   64 \n",
      "Length:   2; Size in bytes:   64 \n",
      "Length:   3; Size in bytes:   64 \n",
      "Length:   4; Size in bytes:   64 \n",
      "Length:   5; Size in bytes:   64 \n",
      "Length:   6; Size in bytes:   64 \n",
      "Length:   7; Size in bytes:   64 \n",
      "Length:   8; Size in bytes:   64 \n",
      "Length:   9; Size in bytes:   64 \n",
      "Length:  10; Size in bytes:   64 \n",
      "Length:  11; Size in bytes:   64 \n",
      "Length:  12; Size in bytes:   64 \n",
      "Length:  13; Size in bytes:   64 \n",
      "Length:  14; Size in bytes:   64 \n",
      "Length:  15; Size in bytes:   64 \n",
      "Length:  16; Size in bytes:   64 \n",
      "Length:  17; Size in bytes:   64 \n",
      "Length:  18; Size in bytes:   64 \n",
      "Length:  19; Size in bytes:   64 \n",
      "Length:  20; Size in bytes:   64 \n",
      "Length:  21; Size in bytes:   64 \n",
      "Length:  22; Size in bytes:   64 \n",
      "Length:  23; Size in bytes:   64 \n",
      "Length:  24; Size in bytes:   64 \n",
      "Length:  25; Size in bytes:   64 \n",
      "Length:  26; Size in bytes:   64 \n",
      "Length:  27; Size in bytes:   64 \n",
      "Length:  28; Size in bytes:   64 \n",
      "Length:  29; Size in bytes:   64 \n",
      "Length:  30; Size in bytes:   64 \n",
      "Length:  31; Size in bytes:   64 \n",
      "Length:  32; Size in bytes:   64 \n",
      "Length:  33; Size in bytes:   64 \n",
      "Length:  34; Size in bytes:   64 \n",
      "Length:  35; Size in bytes:   64 \n",
      "Length:  36; Size in bytes:   64 \n",
      "Length:  37; Size in bytes:   64 \n",
      "Length:  38; Size in bytes:   64 \n",
      "Length:  39; Size in bytes:   64 \n",
      "Length:  40; Size in bytes:   64 \n",
      "Length:  41; Size in bytes:   64 \n",
      "Length:  42; Size in bytes:   64 \n",
      "Length:  43; Size in bytes:   64 \n",
      "Length:  44; Size in bytes:   64 \n",
      "Length:  45; Size in bytes:   64 \n",
      "Length:  46; Size in bytes:   64 \n",
      "Length:  47; Size in bytes:   64 \n",
      "Length:  48; Size in bytes:   64 \n",
      "Length:  49; Size in bytes:   64 \n",
      "Length:  50; Size in bytes:   64 \n",
      "Length:  51; Size in bytes:   64 \n",
      "Length:  52; Size in bytes:   64 \n",
      "Length:  53; Size in bytes:   64 \n",
      "Length:  54; Size in bytes:   64 \n",
      "Length:  55; Size in bytes:   64 \n",
      "Length:  56; Size in bytes:   64 \n",
      "Length:  57; Size in bytes:   64 \n",
      "Length:  58; Size in bytes:   64 \n",
      "Length:  59; Size in bytes:   64 \n",
      "Length:  60; Size in bytes:   64 \n",
      "Length:  61; Size in bytes:   64 \n",
      "Length:  62; Size in bytes:   64 \n",
      "Length:  63; Size in bytes:   64 \n",
      "Length:  64; Size in bytes:   64 \n",
      "Length:  65; Size in bytes:   64 \n",
      "Length:  66; Size in bytes:   64 \n",
      "Length:  67; Size in bytes:   64 \n",
      "Length:  68; Size in bytes:   64 \n",
      "Length:  69; Size in bytes:   64 \n",
      "Length:  70; Size in bytes:   64 \n",
      "Length:  71; Size in bytes:   64 \n",
      "Length:  72; Size in bytes:   64 \n",
      "Length:  73; Size in bytes:   64 \n",
      "Length:  74; Size in bytes:   64 \n",
      "Length:  75; Size in bytes:   64 \n",
      "Length:  76; Size in bytes:   64 \n",
      "Length:  77; Size in bytes:   64 \n",
      "Length:  78; Size in bytes:   64 \n",
      "Length:  79; Size in bytes:   64 \n",
      "Length:  80; Size in bytes:   64 \n",
      "Length:  81; Size in bytes:   64 \n",
      "Length:  82; Size in bytes:   64 \n",
      "Length:  83; Size in bytes:   64 \n",
      "Length:  84; Size in bytes:   64 \n",
      "Length:  85; Size in bytes:   64 \n",
      "Length:  86; Size in bytes:   64 \n",
      "Length:  87; Size in bytes:   64 \n",
      "Length:  88; Size in bytes:   64 \n",
      "Length:  89; Size in bytes:   64 \n",
      "Length:  90; Size in bytes:   64 \n",
      "Length:  91; Size in bytes:   64 \n",
      "Length:  92; Size in bytes:   64 \n",
      "Length:  93; Size in bytes:   64 \n",
      "Length:  94; Size in bytes:   64 \n",
      "Length:  95; Size in bytes:   64 \n",
      "Length:  96; Size in bytes:   64 \n",
      "Length:  97; Size in bytes:   64 \n",
      "Length:  98; Size in bytes:   64 \n",
      "Length:  99; Size in bytes:   64 \n",
      "Length: 100; Size in bytes:   64 \n",
      "Length: 101; Size in bytes:   64 \n",
      "Length: 102; Size in bytes:   64 \n",
      "Length: 103; Size in bytes:   64 \n",
      "Length: 104; Size in bytes:   64 \n",
      "Length: 105; Size in bytes:   64 \n",
      "Length: 106; Size in bytes:   64 \n",
      "Length: 107; Size in bytes:   64 \n",
      "Length: 108; Size in bytes:   64 \n",
      "Length: 109; Size in bytes:   64 \n",
      "Length: 110; Size in bytes:   64 \n",
      "Length: 111; Size in bytes:   64 \n",
      "Length: 112; Size in bytes:   64 \n",
      "Length: 113; Size in bytes:   64 \n",
      "Length: 114; Size in bytes:   64 \n",
      "Length: 115; Size in bytes:   64 \n",
      "Length: 116; Size in bytes:   64 \n",
      "Length: 117; Size in bytes:   64 \n",
      "Length: 118; Size in bytes:   64 \n",
      "Length: 119; Size in bytes:   64 \n",
      "Length: 120; Size in bytes:   64 \n",
      "Length: 121; Size in bytes:   64 \n",
      "Length: 122; Size in bytes:   64 \n",
      "Length: 123; Size in bytes:   64 \n",
      "Length: 124; Size in bytes:   64 \n",
      "Length: 125; Size in bytes:   64 \n",
      "Length: 126; Size in bytes:   64 \n",
      "Length: 127; Size in bytes:   64 \n",
      "Length: 128; Size in bytes:   64 \n",
      "Length: 129; Size in bytes:   64 \n",
      "Length: 130; Size in bytes:   64 \n",
      "Length: 131; Size in bytes:   64 \n",
      "Length: 132; Size in bytes:   64 \n",
      "Length: 133; Size in bytes:   64 \n",
      "Length: 134; Size in bytes:   64 \n",
      "Length: 135; Size in bytes:   64 \n",
      "Length: 136; Size in bytes:   64 \n",
      "Length: 137; Size in bytes:   64 \n",
      "Length: 138; Size in bytes:   64 \n",
      "Length: 139; Size in bytes:   64 \n",
      "Length: 140; Size in bytes:   64 \n",
      "Length: 141; Size in bytes:   64 \n",
      "Length: 142; Size in bytes:   64 \n",
      "Length: 143; Size in bytes:   64 \n",
      "Length: 144; Size in bytes:   64 \n",
      "Length: 145; Size in bytes:   64 \n",
      "Length: 146; Size in bytes:   64 \n",
      "Length: 147; Size in bytes:   64 \n",
      "Length: 148; Size in bytes:   64 \n",
      "Length: 149; Size in bytes:   64 \n",
      "Length: 150; Size in bytes:   64 \n",
      "Length: 151; Size in bytes:   64 \n",
      "Length: 152; Size in bytes:   64 \n",
      "Length: 153; Size in bytes:   64 \n",
      "Length: 154; Size in bytes:   64 \n",
      "Length: 155; Size in bytes:   64 \n",
      "Length: 156; Size in bytes:   64 \n",
      "Length: 157; Size in bytes:   64 \n",
      "Length: 158; Size in bytes:   64 \n",
      "Length: 159; Size in bytes:   64 \n",
      "Length: 160; Size in bytes:   64 \n",
      "Length: 161; Size in bytes:   64 \n",
      "Length: 162; Size in bytes:   64 \n",
      "Length: 163; Size in bytes:   64 \n",
      "Length: 164; Size in bytes:   64 \n",
      "Length: 165; Size in bytes:   64 \n",
      "Length: 166; Size in bytes:   64 \n",
      "Length: 167; Size in bytes:   64 \n",
      "Length: 168; Size in bytes:   64 \n",
      "Length: 169; Size in bytes:   64 \n",
      "Length: 170; Size in bytes:   64 \n",
      "Length: 171; Size in bytes:   64 \n",
      "Length: 172; Size in bytes:   64 \n",
      "Length: 173; Size in bytes:   64 \n",
      "Length: 174; Size in bytes:   64 \n",
      "Length: 175; Size in bytes:   64 \n",
      "Length: 176; Size in bytes:   64 \n",
      "Length: 177; Size in bytes:   64 \n",
      "Length: 178; Size in bytes:   64 \n",
      "Length: 179; Size in bytes:   64 \n",
      "Length: 180; Size in bytes:   64 \n",
      "Length: 181; Size in bytes:   64 \n",
      "Length: 182; Size in bytes:   64 \n",
      "Length: 183; Size in bytes:   64 \n",
      "Length: 184; Size in bytes:   64 \n",
      "Length: 185; Size in bytes:   64 \n",
      "Length: 186; Size in bytes:   64 \n",
      "Length: 187; Size in bytes:   64 \n",
      "Length: 188; Size in bytes:   64 \n",
      "Length: 189; Size in bytes:   64 \n",
      "Length: 190; Size in bytes:   64 \n",
      "Length: 191; Size in bytes:   64 \n",
      "Length: 192; Size in bytes:   64 \n",
      "Length: 193; Size in bytes:   64 \n",
      "Length: 194; Size in bytes:   64 \n",
      "Length: 195; Size in bytes:   64 \n",
      "Length: 196; Size in bytes:   64 \n",
      "Length: 197; Size in bytes:   64 \n",
      "Length: 198; Size in bytes:   64 \n",
      "Length: 199; Size in bytes:   64 \n",
      "Length: 200; Size in bytes:   64 \n",
      "Length: 201; Size in bytes:   64 \n",
      "Length: 202; Size in bytes:   64 \n",
      "Length: 203; Size in bytes:   64 \n",
      "Length: 204; Size in bytes:   64 \n",
      "Length: 205; Size in bytes:   64 \n",
      "Length: 206; Size in bytes:   64 \n",
      "Length: 207; Size in bytes:   64 \n",
      "Length: 208; Size in bytes:   64 \n",
      "Length: 209; Size in bytes:   64 \n",
      "Length: 210; Size in bytes:   64 \n",
      "Length: 211; Size in bytes:   64 \n",
      "Length: 212; Size in bytes:   64 \n",
      "Length: 213; Size in bytes:   64 \n",
      "Length: 214; Size in bytes:   64 \n",
      "Length: 215; Size in bytes:   64 \n",
      "Length: 216; Size in bytes:   64 \n",
      "Length: 217; Size in bytes:   64 \n",
      "Length: 218; Size in bytes:   64 \n",
      "Length: 219; Size in bytes:   64 \n",
      "Length: 220; Size in bytes:   64 \n",
      "Length: 221; Size in bytes:   64 \n",
      "Length: 222; Size in bytes:   64 \n",
      "Length: 223; Size in bytes:   64 \n",
      "Length: 224; Size in bytes:   64 \n",
      "Length: 225; Size in bytes:   64 \n",
      "Length: 226; Size in bytes:   64 \n",
      "Length: 227; Size in bytes:   64 \n",
      "Length: 228; Size in bytes:   64 \n",
      "Length: 229; Size in bytes:   64 \n",
      "Length: 230; Size in bytes:   64 \n",
      "Length: 231; Size in bytes:   64 \n",
      "Length: 232; Size in bytes:   64 \n",
      "Length: 233; Size in bytes:   64 \n",
      "Length: 234; Size in bytes:   64 \n",
      "Length: 235; Size in bytes:   64 \n",
      "Length: 236; Size in bytes:   64 \n",
      "Length: 237; Size in bytes:   64 \n",
      "Length: 238; Size in bytes:   64 \n",
      "Length: 239; Size in bytes:   64 \n",
      "Length: 240; Size in bytes:   64 \n",
      "Length: 241; Size in bytes:   64 \n",
      "Length: 242; Size in bytes:   64 \n",
      "Length: 243; Size in bytes:   64 \n",
      "Length: 244; Size in bytes:   64 \n",
      "Length: 245; Size in bytes:   64 \n",
      "Length: 246; Size in bytes:   64 \n",
      "Length: 247; Size in bytes:   64 \n",
      "Length: 248; Size in bytes:   64 \n",
      "Length: 249; Size in bytes:   64 \n",
      "Length: 250; Size in bytes:   64 \n",
      "Length: 251; Size in bytes:   64 \n",
      "Length: 252; Size in bytes:   64 \n",
      "Length: 253; Size in bytes:   64 \n",
      "Length: 254; Size in bytes:   64 \n",
      "Length: 255; Size in bytes:   64 \n",
      "Length: 256; Size in bytes:   64 \n",
      "Length: 257; Size in bytes:   64 \n",
      "Length: 258; Size in bytes:   64 \n",
      "Length: 259; Size in bytes:   64 \n",
      "Length: 260; Size in bytes:   64 \n",
      "Length: 261; Size in bytes:   64 \n",
      "Length: 262; Size in bytes:   64 \n",
      "Length: 263; Size in bytes:   64 \n",
      "Length: 264; Size in bytes:   64 \n",
      "Length: 265; Size in bytes:   64 \n",
      "Length: 266; Size in bytes:   64 \n",
      "Length: 267; Size in bytes:   64 \n",
      "Length: 268; Size in bytes:   64 \n",
      "Length: 269; Size in bytes:   64 \n",
      "Length: 270; Size in bytes:   64 \n",
      "Length: 271; Size in bytes:   64 \n",
      "Length: 272; Size in bytes:   64 \n",
      "Length: 273; Size in bytes:   64 \n",
      "Length: 274; Size in bytes:   64 \n",
      "Length: 275; Size in bytes:   64 \n",
      "Length: 276; Size in bytes:   64 \n",
      "Length: 277; Size in bytes:   64 \n",
      "Length: 278; Size in bytes:   64 \n",
      "Length: 279; Size in bytes:   64 \n",
      "Length: 280; Size in bytes:   64 \n",
      "Length: 281; Size in bytes:   64 \n",
      "Length: 282; Size in bytes:   64 \n",
      "Length: 283; Size in bytes:   64 \n",
      "Length: 284; Size in bytes:   64 \n",
      "Length: 285; Size in bytes:   64 \n",
      "Length: 286; Size in bytes:   64 \n",
      "Length: 287; Size in bytes:   64 \n",
      "Length: 288; Size in bytes:   64 \n",
      "Length: 289; Size in bytes:   64 \n",
      "Length: 290; Size in bytes:   64 \n",
      "Length: 291; Size in bytes:   64 \n",
      "Length: 292; Size in bytes:   64 \n",
      "Length: 293; Size in bytes:   64 \n",
      "Length: 294; Size in bytes:   64 \n",
      "Length: 295; Size in bytes:   64 \n",
      "Length: 296; Size in bytes:   64 \n",
      "Length: 297; Size in bytes:   64 \n",
      "Length: 298; Size in bytes:   64 \n",
      "Length: 299; Size in bytes:   64 \n",
      "Length: 300; Size in bytes:   64 \n",
      "Length: 301; Size in bytes:   64 \n",
      "Length: 302; Size in bytes:   64 \n",
      "Length: 303; Size in bytes:   64 \n",
      "Length: 304; Size in bytes:   64 \n",
      "Length: 305; Size in bytes:   64 \n",
      "Length: 306; Size in bytes:   64 \n",
      "Length: 307; Size in bytes:   64 \n",
      "Length: 308; Size in bytes:   64 \n",
      "Length: 309; Size in bytes:   64 \n",
      "Length: 310; Size in bytes:   64 \n",
      "Length: 311; Size in bytes:   64 \n",
      "Length: 312; Size in bytes:   64 \n",
      "Length: 313; Size in bytes:   64 \n",
      "Length: 314; Size in bytes:   64 \n",
      "Length: 315; Size in bytes:   64 \n",
      "Length: 316; Size in bytes:   64 \n",
      "Length: 317; Size in bytes:   64 \n",
      "Length: 318; Size in bytes:   64 \n",
      "Length: 319; Size in bytes:   64 \n",
      "Length: 320; Size in bytes:   64 \n",
      "Length: 321; Size in bytes:   64 \n",
      "Length: 322; Size in bytes:   64 \n",
      "Length: 323; Size in bytes:   64 \n",
      "Length: 324; Size in bytes:   64 \n",
      "Length: 325; Size in bytes:   64 \n",
      "Length: 326; Size in bytes:   64 \n",
      "Length: 327; Size in bytes:   64 \n",
      "Length: 328; Size in bytes:   64 \n",
      "Length: 329; Size in bytes:   64 \n",
      "Length: 330; Size in bytes:   64 \n",
      "Length: 331; Size in bytes:   64 \n",
      "Length: 332; Size in bytes:   64 \n",
      "Length: 333; Size in bytes:   64 \n",
      "Length: 334; Size in bytes:   64 \n",
      "Length: 335; Size in bytes:   64 \n",
      "Length: 336; Size in bytes:   64 \n",
      "Length: 337; Size in bytes:   64 \n",
      "Length: 338; Size in bytes:   64 \n",
      "Length: 339; Size in bytes:   64 \n",
      "Length: 340; Size in bytes:   64 \n",
      "Length: 341; Size in bytes:   64 \n",
      "Length: 342; Size in bytes:   64 \n",
      "Length: 343; Size in bytes:   64 \n",
      "Length: 344; Size in bytes:   64 \n",
      "Length: 345; Size in bytes:   64 \n",
      "Length: 346; Size in bytes:   64 \n",
      "Length: 347; Size in bytes:   64 \n",
      "Length: 348; Size in bytes:   64 \n",
      "Length: 349; Size in bytes:   64 \n",
      "Length: 350; Size in bytes:   64 \n",
      "Length: 351; Size in bytes:   64 \n",
      "Length: 352; Size in bytes:   64 \n",
      "Length: 353; Size in bytes:   64 \n",
      "Length: 354; Size in bytes:   64 \n",
      "Length: 355; Size in bytes:   64 \n",
      "Length: 356; Size in bytes:   64 \n",
      "Length: 357; Size in bytes:   64 \n",
      "Length: 358; Size in bytes:   64 \n",
      "Length: 359; Size in bytes:   64 \n",
      "Length: 360; Size in bytes:   64 \n",
      "Length: 361; Size in bytes:   64 \n",
      "Length: 362; Size in bytes:   64 \n",
      "Length: 363; Size in bytes:   64 \n",
      "Length: 364; Size in bytes:   64 \n",
      "Length: 365; Size in bytes:   64 \n",
      "Length: 366; Size in bytes:   64 \n",
      "Length: 367; Size in bytes:   64 \n",
      "Length: 368; Size in bytes:   64 \n",
      "Length: 369; Size in bytes:   64 \n",
      "Length: 370; Size in bytes:   64 \n",
      "Length: 371; Size in bytes:   64 \n",
      "Length: 372; Size in bytes:   64 \n",
      "Length: 373; Size in bytes:   64 \n",
      "Length: 374; Size in bytes:   64 \n",
      "Length: 375; Size in bytes:   64 \n",
      "Length: 376; Size in bytes:   64 \n",
      "Length: 377; Size in bytes:   64 \n",
      "Length: 378; Size in bytes:   64 \n",
      "Length: 379; Size in bytes:   64 \n",
      "Length: 380; Size in bytes:   64 \n",
      "Length: 381; Size in bytes:   64 \n",
      "Length: 382; Size in bytes:   64 \n",
      "Length: 383; Size in bytes:   64 \n",
      "Length: 384; Size in bytes:   64 \n",
      "Length: 385; Size in bytes:   64 \n",
      "Length: 386; Size in bytes:   64 \n",
      "Length: 387; Size in bytes:   64 \n",
      "Length: 388; Size in bytes:   64 \n",
      "Length: 389; Size in bytes:   64 \n",
      "Length: 390; Size in bytes:   64 \n",
      "Length: 391; Size in bytes:   64 \n",
      "Length: 392; Size in bytes:   64 \n",
      "Length: 393; Size in bytes:   64 \n",
      "Length: 394; Size in bytes:   64 \n",
      "Length: 395; Size in bytes:   64 \n",
      "Length: 396; Size in bytes:   64 \n",
      "Length: 397; Size in bytes:   64 \n",
      "Length: 398; Size in bytes:   64 \n",
      "Length: 399; Size in bytes:   64 \n",
      "Length: 400; Size in bytes:   64 \n",
      "Length: 401; Size in bytes:   64 \n",
      "Length: 402; Size in bytes:   64 \n",
      "Length: 403; Size in bytes:   64 \n",
      "Length: 404; Size in bytes:   64 \n",
      "Length: 405; Size in bytes:   64 \n",
      "Length: 406; Size in bytes:   64 \n",
      "Length: 407; Size in bytes:   64 \n",
      "Length: 408; Size in bytes:   64 \n",
      "Length: 409; Size in bytes:   64 \n",
      "Length: 410; Size in bytes:   64 \n",
      "Length: 411; Size in bytes:   64 \n",
      "Length: 412; Size in bytes:   64 \n",
      "Length: 413; Size in bytes:   64 \n",
      "Length: 414; Size in bytes:   64 \n",
      "Length: 415; Size in bytes:   64 \n",
      "Length: 416; Size in bytes:   64 \n",
      "Length: 417; Size in bytes:   64 \n",
      "Length: 418; Size in bytes:   64 \n",
      "Length: 419; Size in bytes:   64 \n",
      "Length: 420; Size in bytes:   64 \n",
      "Length: 421; Size in bytes:   64 \n",
      "Length: 422; Size in bytes:   64 \n",
      "Length: 423; Size in bytes:   64 \n",
      "Length: 424; Size in bytes:   64 \n",
      "Length: 425; Size in bytes:   64 \n",
      "Length: 426; Size in bytes:   64 \n",
      "Length: 427; Size in bytes:   64 \n",
      "Length: 428; Size in bytes:   64 \n",
      "Length: 429; Size in bytes:   64 \n",
      "Length: 430; Size in bytes:   64 \n",
      "Length: 431; Size in bytes:   64 \n",
      "Length: 432; Size in bytes:   64 \n",
      "Length: 433; Size in bytes:   64 \n",
      "Length: 434; Size in bytes:   64 \n",
      "Length: 435; Size in bytes:   64 \n",
      "Length: 436; Size in bytes:   64 \n",
      "Length: 437; Size in bytes:   64 \n",
      "Length: 438; Size in bytes:   64 \n",
      "Length: 439; Size in bytes:   64 \n",
      "Length: 440; Size in bytes:   64 \n",
      "Length: 441; Size in bytes:   64 \n",
      "Length: 442; Size in bytes:   64 \n",
      "Length: 443; Size in bytes:   64 \n",
      "Length: 444; Size in bytes:   64 \n",
      "Length: 445; Size in bytes:   64 \n",
      "Length: 446; Size in bytes:   64 \n",
      "Length: 447; Size in bytes:   64 \n",
      "Length: 448; Size in bytes:   64 \n",
      "Length: 449; Size in bytes:   64 \n",
      "Length: 450; Size in bytes:   64 \n",
      "Length: 451; Size in bytes:   64 \n",
      "Length: 452; Size in bytes:   64 \n",
      "Length: 453; Size in bytes:   64 \n",
      "Length: 454; Size in bytes:   64 \n",
      "Length: 455; Size in bytes:   64 \n",
      "Length: 456; Size in bytes:   64 \n",
      "Length: 457; Size in bytes:   64 \n",
      "Length: 458; Size in bytes:   64 \n",
      "Length: 459; Size in bytes:   64 \n",
      "Length: 460; Size in bytes:   64 \n",
      "Length: 461; Size in bytes:   64 \n",
      "Length: 462; Size in bytes:   64 \n",
      "Length: 463; Size in bytes:   64 \n",
      "Length: 464; Size in bytes:   64 \n",
      "Length: 465; Size in bytes:   64 \n",
      "Length: 466; Size in bytes:   64 \n",
      "Length: 467; Size in bytes:   64 \n",
      "Length: 468; Size in bytes:   64 \n",
      "Length: 469; Size in bytes:   64 \n",
      "Length: 470; Size in bytes:   64 \n",
      "Length: 471; Size in bytes:   64 \n",
      "Length: 472; Size in bytes:   64 \n",
      "Length: 473; Size in bytes:   64 \n",
      "Length: 474; Size in bytes:   64 \n",
      "Length: 475; Size in bytes:   64 \n",
      "Length: 476; Size in bytes:   64 \n",
      "Length: 477; Size in bytes:   64 \n",
      "Length: 478; Size in bytes:   64 \n",
      "Length: 479; Size in bytes:   64 \n",
      "Length: 480; Size in bytes:   64 \n",
      "Length: 481; Size in bytes:   64 \n",
      "Length: 482; Size in bytes:   64 \n",
      "Length: 483; Size in bytes:   64 \n",
      "Length: 484; Size in bytes:   64 \n",
      "Length: 485; Size in bytes:   64 \n",
      "Length: 486; Size in bytes:   64 \n",
      "Length: 487; Size in bytes:   64 \n",
      "Length: 488; Size in bytes:   64 \n",
      "Length: 489; Size in bytes:   64 \n",
      "Length: 490; Size in bytes:   64 \n",
      "Length: 491; Size in bytes:   64 \n",
      "Length: 492; Size in bytes:   64 \n",
      "Length: 493; Size in bytes:   64 \n",
      "Length: 494; Size in bytes:   64 \n",
      "Length: 495; Size in bytes:   64 \n",
      "Length: 496; Size in bytes:   64 \n",
      "Length: 497; Size in bytes:   64 \n",
      "Length: 498; Size in bytes:   64 \n"
     ]
    }
   ],
   "source": [
    "# sys.getsizeof()\n",
    "\n",
    "arr1 = DynamicArray()\n",
    "\n",
    "for x in range(1,500):\n",
    "    \n",
    "    a = len(arr1)\n",
    "    b = sys.getsizeof(arr1)\n",
    "    \n",
    "    print 'Length: {0:3d}; Size in bytes: {1:4d} '.format(a,b)\n",
    "    \n",
    "    arr1.append(x)"
   ]
  },
  {
   "cell_type": "code",
   "execution_count": 29,
   "metadata": {
    "collapsed": true
   },
   "outputs": [],
   "source": [
    "# Program to check for anagrams\n",
    "\n",
    "str1 = \"dog\"\n",
    "str2 = \"god\""
   ]
  },
  {
   "cell_type": "code",
   "execution_count": 44,
   "metadata": {
    "collapsed": true
   },
   "outputs": [],
   "source": [
    "def chk_anagram(str1, str2):\n",
    "    s_str1 = sorted(str1.lower().replace(\" \",\"\"))\n",
    "    s_str2 = sorted(str2.lower().replace(\" \",\"\"))\n",
    "    \n",
    "    if s_str1 == s_str2:\n",
    "        return True\n",
    "    return False"
   ]
  },
  {
   "cell_type": "code",
   "execution_count": 46,
   "metadata": {
    "collapsed": false
   },
   "outputs": [
    {
     "data": {
      "text/plain": [
       "True"
      ]
     },
     "execution_count": 46,
     "metadata": {},
     "output_type": "execute_result"
    }
   ],
   "source": [
    "chk_anagram(\"dog\",\"god\")"
   ]
  },
  {
   "cell_type": "code",
   "execution_count": 39,
   "metadata": {
    "collapsed": false
   },
   "outputs": [
    {
     "data": {
      "text/plain": [
       "'dog'"
      ]
     },
     "execution_count": 39,
     "metadata": {},
     "output_type": "execute_result"
    }
   ],
   "source": [
    "str1.lower()"
   ]
  },
  {
   "cell_type": "code",
   "execution_count": 40,
   "metadata": {
    "collapsed": true
   },
   "outputs": [],
   "source": [
    "str_n = \"This is\""
   ]
  },
  {
   "cell_type": "code",
   "execution_count": 43,
   "metadata": {
    "collapsed": false
   },
   "outputs": [
    {
     "data": {
      "text/plain": [
       "'Thisis'"
      ]
     },
     "execution_count": 43,
     "metadata": {},
     "output_type": "execute_result"
    }
   ],
   "source": [
    "str_n.replace(\" \",\"\")"
   ]
  },
  {
   "cell_type": "code",
   "execution_count": 49,
   "metadata": {
    "collapsed": false
   },
   "outputs": [
    {
     "data": {
      "text/plain": [
       "True"
      ]
     },
     "execution_count": 49,
     "metadata": {},
     "output_type": "execute_result"
    }
   ],
   "source": [
    "chk_anagram(\"public relations\",\"crap built on lies\")"
   ]
  },
  {
   "cell_type": "code",
   "execution_count": 50,
   "metadata": {
    "collapsed": false
   },
   "outputs": [
    {
     "data": {
      "text/plain": [
       "True"
      ]
     },
     "execution_count": 50,
     "metadata": {},
     "output_type": "execute_result"
    }
   ],
   "source": [
    "chk_anagram(\"clint eastwood\", \"old west action\")"
   ]
  },
  {
   "cell_type": "code",
   "execution_count": 51,
   "metadata": {
    "collapsed": true
   },
   "outputs": [],
   "source": [
    "from nose.tools import assert_equal"
   ]
  },
  {
   "cell_type": "code",
   "execution_count": 52,
   "metadata": {
    "collapsed": true
   },
   "outputs": [],
   "source": [
    "class AnagramTest(object):\n",
    "    \n",
    "    def test(self, sol):\n",
    "        assert_equal(sol('go go go','gggooo'), True)\n",
    "        assert_equal(sol('abc','cba'), True)\n",
    "        assert_equal(sol('hi man','hi     man'), True)\n",
    "        assert_equal(sol('aabbcc','aabbc'), False)\n",
    "        assert_equal(sol('123','1 2'), False)\n",
    "        print \"ALL TEST CASES PASSED\""
   ]
  },
  {
   "cell_type": "code",
   "execution_count": 53,
   "metadata": {
    "collapsed": true
   },
   "outputs": [],
   "source": [
    "t = AnagramTest()"
   ]
  },
  {
   "cell_type": "code",
   "execution_count": 54,
   "metadata": {
    "collapsed": false
   },
   "outputs": [
    {
     "name": "stdout",
     "output_type": "stream",
     "text": [
      "ALL TEST CASES PASSED\n"
     ]
    }
   ],
   "source": [
    "t.test(chk_anagram)"
   ]
  },
  {
   "cell_type": "code",
   "execution_count": 55,
   "metadata": {
    "collapsed": true
   },
   "outputs": [],
   "source": [
    "# Actual solution to the Anagram problem."
   ]
  },
  {
   "cell_type": "code",
   "execution_count": 69,
   "metadata": {
    "collapsed": true
   },
   "outputs": [],
   "source": [
    "def chk_anagram2(str1,str2):\n",
    "    \n",
    "    s_str1 = str1.lower().replace(\" \",\"\")\n",
    "    s_str2 = str2.lower().replace(\" \",\"\")\n",
    "    \n",
    "    if(len(s_str1) != len(s_str2)):\n",
    "        return False\n",
    "    \n",
    "    count = {}\n",
    "    \n",
    "    for letter in s_str1:\n",
    "        if letter in count:\n",
    "            count[letter] += 1\n",
    "        else:\n",
    "            count[letter] = 1\n",
    "            \n",
    "    for letter in s_str2:\n",
    "        if letter in count:\n",
    "            count[letter] -= 1\n",
    "        else:\n",
    "            count[letter] = 1\n",
    "            \n",
    "    for k in count:\n",
    "        if count[k] != 0:\n",
    "            return False\n",
    "        \n",
    "    return True\n",
    "    \n",
    "    "
   ]
  },
  {
   "cell_type": "code",
   "execution_count": 70,
   "metadata": {
    "collapsed": false
   },
   "outputs": [
    {
     "data": {
      "text/plain": [
       "True"
      ]
     },
     "execution_count": 70,
     "metadata": {},
     "output_type": "execute_result"
    }
   ],
   "source": [
    "chk_anagram2(\"public relations\",\"crap built on lies\")"
   ]
  },
  {
   "cell_type": "code",
   "execution_count": 71,
   "metadata": {
    "collapsed": false
   },
   "outputs": [
    {
     "data": {
      "text/plain": [
       "False"
      ]
     },
     "execution_count": 71,
     "metadata": {},
     "output_type": "execute_result"
    }
   ],
   "source": [
    "chk_anagram2(\"dogi\",\"dog\")"
   ]
  },
  {
   "cell_type": "code",
   "execution_count": 63,
   "metadata": {
    "collapsed": true
   },
   "outputs": [],
   "source": [
    "t = AnagramTest()"
   ]
  },
  {
   "cell_type": "code",
   "execution_count": 72,
   "metadata": {
    "collapsed": false
   },
   "outputs": [
    {
     "name": "stdout",
     "output_type": "stream",
     "text": [
      "ALL TEST CASES PASSED\n"
     ]
    }
   ],
   "source": [
    "t.test(chk_anagram2)"
   ]
  },
  {
   "cell_type": "code",
   "execution_count": 73,
   "metadata": {
    "collapsed": true
   },
   "outputs": [],
   "source": [
    "# Array pair sum problem\n",
    "\n",
    "arr = [1,3,2,2]"
   ]
  },
  {
   "cell_type": "code",
   "execution_count": 74,
   "metadata": {
    "collapsed": false
   },
   "outputs": [
    {
     "name": "stdout",
     "output_type": "stream",
     "text": [
      "0\n",
      "1\n",
      "2\n",
      "3\n"
     ]
    }
   ],
   "source": [
    "for i in range(0, len(arr)):\n",
    "    print i"
   ]
  },
  {
   "cell_type": "code",
   "execution_count": 75,
   "metadata": {
    "collapsed": false
   },
   "outputs": [
    {
     "name": "stdout",
     "output_type": "stream",
     "text": [
      "1\n",
      "2\n",
      "3\n"
     ]
    }
   ],
   "source": [
    "for j in range(1, len(arr)):\n",
    "    print j"
   ]
  },
  {
   "cell_type": "code",
   "execution_count": 80,
   "metadata": {
    "collapsed": false
   },
   "outputs": [],
   "source": [
    "def array_pair_sum(arr, k):\n",
    "    counter = 0\n",
    "    for i in range(0, len(arr)):\n",
    "        for j in range(1, len(arr)):\n",
    "            if i < j:\n",
    "                final_val = arr[i] + arr[j]\n",
    "                if final_val == k:\n",
    "                    counter += 1\n",
    "                    print (arr[i], arr[j])\n",
    "    return counter"
   ]
  },
  {
   "cell_type": "code",
   "execution_count": 129,
   "metadata": {
    "collapsed": false
   },
   "outputs": [
    {
     "data": {
      "text/plain": [
       "2"
      ]
     },
     "execution_count": 129,
     "metadata": {},
     "output_type": "execute_result"
    }
   ],
   "source": [
    "array_pair_sum([1,3,2,2],4)"
   ]
  },
  {
   "cell_type": "code",
   "execution_count": 208,
   "metadata": {
    "collapsed": false
   },
   "outputs": [],
   "source": [
    "def array_pair_sum(lst,k):\n",
    "    if len(lst) < 2:\n",
    "        return 0\n",
    "    \n",
    "    output = set()\n",
    "    seen = set()\n",
    "    \n",
    "    for num in lst:     \n",
    "        target_value = k - num\n",
    "        if target_value not in seen:\n",
    "            seen.add(num)\n",
    "        else:\n",
    "            output.add((min(num, target_value), max(num, target_value)))\n",
    "    \n",
    "    # print '\\n'.join(map(str, list(output)))\n",
    "    return len(output)"
   ]
  },
  {
   "cell_type": "code",
   "execution_count": 209,
   "metadata": {
    "collapsed": false
   },
   "outputs": [
    {
     "data": {
      "text/plain": [
       "6"
      ]
     },
     "execution_count": 209,
     "metadata": {},
     "output_type": "execute_result"
    }
   ],
   "source": [
    "array_pair_sum([1,9,2,8,3,7,4,6,5,5,13,14,11,13,-1],10)"
   ]
  },
  {
   "cell_type": "code",
   "execution_count": 210,
   "metadata": {
    "collapsed": false
   },
   "outputs": [
    {
     "data": {
      "text/plain": [
       "1"
      ]
     },
     "execution_count": 210,
     "metadata": {},
     "output_type": "execute_result"
    }
   ],
   "source": [
    "array_pair_sum([1,2,3,1],3)"
   ]
  },
  {
   "cell_type": "code",
   "execution_count": 211,
   "metadata": {
    "collapsed": false
   },
   "outputs": [
    {
     "data": {
      "text/plain": [
       "2"
      ]
     },
     "execution_count": 211,
     "metadata": {},
     "output_type": "execute_result"
    }
   ],
   "source": [
    "array_pair_sum([1,3,2,2],4)"
   ]
  },
  {
   "cell_type": "code",
   "execution_count": 212,
   "metadata": {
    "collapsed": false
   },
   "outputs": [
    {
     "data": {
      "text/plain": [
       "0"
      ]
     },
     "execution_count": 212,
     "metadata": {},
     "output_type": "execute_result"
    }
   ],
   "source": [
    "array_pair_sum([1],1)"
   ]
  },
  {
   "cell_type": "code",
   "execution_count": 213,
   "metadata": {
    "collapsed": false
   },
   "outputs": [
    {
     "name": "stdout",
     "output_type": "stream",
     "text": [
      "ALL TEST CASES PASSED\n"
     ]
    }
   ],
   "source": [
    "\"\"\"\n",
    "RUN THIS CELL TO TEST YOUR SOLUTION\n",
    "\"\"\"\n",
    "from nose.tools import assert_equal\n",
    "\n",
    "class TestPair(object):\n",
    "    \n",
    "    def test(self,sol):\n",
    "        assert_equal(sol([1,9,2,8,3,7,4,6,5,5,13,14,11,13,-1],10),6)\n",
    "        assert_equal(sol([1,2,3,1],3),1)\n",
    "        assert_equal(sol([1,3,2,2],4),2)\n",
    "        print 'ALL TEST CASES PASSED'\n",
    "        \n",
    "#Run tests\n",
    "t = TestPair()\n",
    "t.test(array_pair_sum)"
   ]
  },
  {
   "cell_type": "code",
   "execution_count": 216,
   "metadata": {
    "collapsed": true
   },
   "outputs": [],
   "source": [
    "# Writing it properly."
   ]
  },
  {
   "cell_type": "code",
   "execution_count": 218,
   "metadata": {
    "collapsed": false
   },
   "outputs": [],
   "source": [
    "def find_array_pairs(lst, k):\n",
    "    if len(lst) < 2:\n",
    "        return 0\n",
    "    \n",
    "    seen = set()\n",
    "    output = set()\n",
    "    \n",
    "    for val in lst:\n",
    "        target = k - val\n",
    "        \n",
    "        if target not in seen:\n",
    "            seen.add(val)\n",
    "            \n",
    "        else:\n",
    "            output.add((min(val, target), max(val, target)))\n",
    "            \n",
    "    # return len(output)\n",
    "    print '\\n'.join(map(str, list(output)))"
   ]
  },
  {
   "cell_type": "code",
   "execution_count": 215,
   "metadata": {
    "collapsed": false
   },
   "outputs": [
    {
     "name": "stdout",
     "output_type": "stream",
     "text": [
      "ALL TEST CASES PASSED\n"
     ]
    }
   ],
   "source": [
    "#Run tests\n",
    "t = TestPair()\n",
    "t.test(find_array_pairs)"
   ]
  },
  {
   "cell_type": "code",
   "execution_count": 219,
   "metadata": {
    "collapsed": false
   },
   "outputs": [
    {
     "name": "stdout",
     "output_type": "stream",
     "text": [
      "(1, 3)\n",
      "(2, 2)\n"
     ]
    }
   ],
   "source": [
    "find_array_pairs([1,3,2,1,2],4)"
   ]
  },
  {
   "cell_type": "code",
   "execution_count": 220,
   "metadata": {
    "collapsed": true
   },
   "outputs": [],
   "source": [
    "# Find the missing element from an array."
   ]
  },
  {
   "cell_type": "code",
   "execution_count": 222,
   "metadata": {
    "collapsed": false
   },
   "outputs": [],
   "source": [
    "hash_kv_table = "
   ]
  },
  {
   "cell_type": "code",
   "execution_count": null,
   "metadata": {
    "collapsed": true
   },
   "outputs": [],
   "source": [
    "hash_kv_table."
   ]
  },
  {
   "cell_type": "code",
   "execution_count": 259,
   "metadata": {
    "collapsed": true
   },
   "outputs": [],
   "source": [
    "def finder(arr1, arr2):\n",
    "    hash_kv_table = dict()\n",
    "    \n",
    "    for val in arr1:\n",
    "        if val in hash_kv_table.keys():\n",
    "            hash_kv_table[val] += 1\n",
    "        else:\n",
    "            hash_kv_table[val] = 1\n",
    "            \n",
    "    for val2 in arr2:\n",
    "        if val2 in hash_kv_table.keys():\n",
    "            hash_kv_table[val2] -= 1\n",
    "        else:\n",
    "            hash_kv_table[val2] = 0\n",
    "       \n",
    "    for v in hash_kv_table.items():\n",
    "        if v[1] != 0:\n",
    "            return v[0]\n",
    "    \n",
    "        "
   ]
  },
  {
   "cell_type": "code",
   "execution_count": 260,
   "metadata": {
    "collapsed": false
   },
   "outputs": [
    {
     "data": {
      "text/plain": [
       "5"
      ]
     },
     "execution_count": 260,
     "metadata": {},
     "output_type": "execute_result"
    }
   ],
   "source": [
    "finder([1,2,3,4,5,6,7],[3,7,2,1,4,6])"
   ]
  },
  {
   "cell_type": "code",
   "execution_count": 261,
   "metadata": {
    "collapsed": false
   },
   "outputs": [
    {
     "name": "stdout",
     "output_type": "stream",
     "text": [
      "ALL TEST CASES PASSED\n"
     ]
    }
   ],
   "source": [
    "\"\"\"\n",
    "RUN THIS CELL TO TEST YOUR SOLUTION\n",
    "\"\"\"\n",
    "from nose.tools import assert_equal\n",
    "\n",
    "class TestFinder(object):\n",
    "    \n",
    "    def test(self,sol):\n",
    "        assert_equal(sol([5,5,7,7],[5,7,7]),5)\n",
    "        assert_equal(sol([1,2,3,4,5,6,7],[3,7,2,1,4,6]),5)\n",
    "        assert_equal(sol([9,8,7,6,5,4,3,2,1],[9,8,7,5,4,3,2,1]),6)\n",
    "        print 'ALL TEST CASES PASSED'\n",
    "\n",
    "# Run test\n",
    "t = TestFinder()\n",
    "t.test(finder)"
   ]
  },
  {
   "cell_type": "code",
   "execution_count": 262,
   "metadata": {
    "collapsed": true
   },
   "outputs": [],
   "source": [
    "# Books solution in O(nlogn)"
   ]
  },
  {
   "cell_type": "code",
   "execution_count": 263,
   "metadata": {
    "collapsed": true
   },
   "outputs": [],
   "source": [
    "def finder_sort(arr1, arr2):\n",
    "    arr1.sort()\n",
    "    arr2.sort()\n",
    "    \n",
    "    for num1, num2 in zip(arr1, arr2):\n",
    "        if num1 != num2:\n",
    "            return num1\n",
    "        \n",
    "    return arr1[-1]"
   ]
  },
  {
   "cell_type": "code",
   "execution_count": 264,
   "metadata": {
    "collapsed": false
   },
   "outputs": [
    {
     "name": "stdout",
     "output_type": "stream",
     "text": [
      "ALL TEST CASES PASSED\n"
     ]
    }
   ],
   "source": [
    "# Run test\n",
    "t = TestFinder()\n",
    "t.test(finder_sort)"
   ]
  },
  {
   "cell_type": "code",
   "execution_count": 266,
   "metadata": {
    "collapsed": false
   },
   "outputs": [
    {
     "data": {
      "text/plain": [
       "4"
      ]
     },
     "execution_count": 266,
     "metadata": {},
     "output_type": "execute_result"
    }
   ],
   "source": [
    "finder_sort([1,2,3,4,5],[3,5,2,1])"
   ]
  },
  {
   "cell_type": "code",
   "execution_count": 270,
   "metadata": {
    "collapsed": false
   },
   "outputs": [
    {
     "data": {
      "text/plain": [
       "[(1, 1), (2, 2), (3, 4), (4, 5)]"
      ]
     },
     "execution_count": 270,
     "metadata": {},
     "output_type": "execute_result"
    }
   ],
   "source": [
    "arr1 = [1,2,3,4,5,6]\n",
    "arr2 = [1,2,4,5]\n",
    "\n",
    "zip(arr1, arr2)"
   ]
  },
  {
   "cell_type": "code",
   "execution_count": 271,
   "metadata": {
    "collapsed": false
   },
   "outputs": [
    {
     "data": {
      "text/plain": [
       "3"
      ]
     },
     "execution_count": 271,
     "metadata": {},
     "output_type": "execute_result"
    }
   ],
   "source": [
    "finder([1,2,3,4,5,6],[1,2,4,5])"
   ]
  },
  {
   "cell_type": "code",
   "execution_count": 272,
   "metadata": {
    "collapsed": true
   },
   "outputs": [],
   "source": [
    "import collections"
   ]
  },
  {
   "cell_type": "code",
   "execution_count": 273,
   "metadata": {
    "collapsed": true
   },
   "outputs": [],
   "source": [
    "def finder_2(arr1, arr2):\n",
    "    \n",
    "    d = collections.defaultdict(int)\n",
    "    \n",
    "    for num in arr2:\n",
    "        d[num] += 1\n",
    "        \n",
    "    for num in arr1:\n",
    "        if d[num] == 0:\n",
    "            return num\n",
    "        else:\n",
    "            d[num] -= 1"
   ]
  },
  {
   "cell_type": "code",
   "execution_count": 274,
   "metadata": {
    "collapsed": false
   },
   "outputs": [
    {
     "name": "stdout",
     "output_type": "stream",
     "text": [
      "ALL TEST CASES PASSED\n"
     ]
    }
   ],
   "source": [
    "# Run test\n",
    "t = TestFinder()\n",
    "t.test(finder_2)"
   ]
  },
  {
   "cell_type": "code",
   "execution_count": 275,
   "metadata": {
    "collapsed": true
   },
   "outputs": [],
   "source": [
    "# Clever trick"
   ]
  },
  {
   "cell_type": "code",
   "execution_count": 276,
   "metadata": {
    "collapsed": true
   },
   "outputs": [],
   "source": [
    "def finder3(arr1, arr2):\n",
    "    result = 0\n",
    "    \n",
    "    for num in arr1 + arr2:\n",
    "        result^=num\n",
    "        print result\n",
    "        \n",
    "    return result"
   ]
  },
  {
   "cell_type": "code",
   "execution_count": 277,
   "metadata": {
    "collapsed": false
   },
   "outputs": [
    {
     "name": "stdout",
     "output_type": "stream",
     "text": [
      "5\n",
      "0\n",
      "7\n",
      "0\n",
      "5\n",
      "2\n",
      "5\n",
      "1\n",
      "3\n",
      "0\n",
      "4\n",
      "1\n",
      "7\n",
      "0\n",
      "3\n",
      "4\n",
      "6\n",
      "7\n",
      "3\n",
      "5\n",
      "9\n",
      "1\n",
      "6\n",
      "0\n",
      "5\n",
      "1\n",
      "2\n",
      "0\n",
      "1\n",
      "8\n",
      "0\n",
      "7\n",
      "2\n",
      "6\n",
      "5\n",
      "7\n",
      "6\n",
      "ALL TEST CASES PASSED\n"
     ]
    }
   ],
   "source": [
    "# Run test\n",
    "t = TestFinder()\n",
    "t.test(finder3)"
   ]
  },
  {
   "cell_type": "code",
   "execution_count": 285,
   "metadata": {
    "collapsed": false
   },
   "outputs": [
    {
     "name": "stdout",
     "output_type": "stream",
     "text": [
      "1\n",
      "8\n",
      "11\n",
      "14\n",
      "11\n",
      "12\n",
      "11\n",
      "2\n",
      "7\n",
      "0\n",
      "5\n",
      "2\n",
      "3\n",
      "0\n",
      "9\n"
     ]
    },
    {
     "data": {
      "text/plain": [
       "9"
      ]
     },
     "execution_count": 285,
     "metadata": {},
     "output_type": "execute_result"
    }
   ],
   "source": [
    "finder3([1,9,3,5,5,7,7,9],[5,7,5,7,1,3,9])"
   ]
  },
  {
   "cell_type": "code",
   "execution_count": 282,
   "metadata": {
    "collapsed": false
   },
   "outputs": [
    {
     "name": "stdout",
     "output_type": "stream",
     "text": [
      "2\n"
     ]
    }
   ],
   "source": [
    "print 5^7"
   ]
  },
  {
   "cell_type": "code",
   "execution_count": 286,
   "metadata": {
    "collapsed": true
   },
   "outputs": [],
   "source": [
    "# Finding the largest continous sum of the array."
   ]
  },
  {
   "cell_type": "code",
   "execution_count": 287,
   "metadata": {
    "collapsed": true
   },
   "outputs": [],
   "source": [
    "arr1 = [1,2,-1,3,4,10,10,-10,-1]"
   ]
  },
  {
   "cell_type": "code",
   "execution_count": 300,
   "metadata": {
    "collapsed": false
   },
   "outputs": [],
   "source": [
    "def largest_sum(arr1):\n",
    "    count_sum = 0\n",
    "    i = 0\n",
    "    final_set = set()\n",
    "    for val in arr1:\n",
    "        i += 1\n",
    "        count_sum += val\n",
    "        if count_sum == 0:\n",
    "            final_set.add(val)\n",
    "        else:\n",
    "            final_set.add(count_sum)\n",
    "    return max(final_set)"
   ]
  },
  {
   "cell_type": "code",
   "execution_count": 302,
   "metadata": {
    "collapsed": false
   },
   "outputs": [
    {
     "data": {
      "text/plain": [
       "29"
      ]
     },
     "execution_count": 302,
     "metadata": {},
     "output_type": "execute_result"
    }
   ],
   "source": [
    "largest_sum([1,2,-1,3,4,10,10,-10,-1])"
   ]
  },
  {
   "cell_type": "code",
   "execution_count": 303,
   "metadata": {
    "collapsed": false
   },
   "outputs": [
    {
     "name": "stdout",
     "output_type": "stream",
     "text": [
      "ALL TEST CASES PASSED\n"
     ]
    }
   ],
   "source": [
    "from nose.tools import assert_equal\n",
    "\n",
    "class LargeContTest(object):\n",
    "    def test(self,sol):\n",
    "        assert_equal(sol([1,2,-1,3,4,-1]),9)\n",
    "        assert_equal(sol([1,2,-1,3,4,10,10,-10,-1]),29)\n",
    "        assert_equal(sol([-1,1]),1)\n",
    "        print 'ALL TEST CASES PASSED'\n",
    "        \n",
    "#Run Test\n",
    "t = LargeContTest()\n",
    "t.test(largest_sum)"
   ]
  },
  {
   "cell_type": "code",
   "execution_count": 313,
   "metadata": {
    "collapsed": true
   },
   "outputs": [],
   "source": [
    "def largest_sum_test(arr1):\n",
    "    count_sum = 0\n",
    "    i = 0\n",
    "    final_set = set()\n",
    "    for val in arr1:\n",
    "        i += 1\n",
    "        count_sum += val\n",
    "        if count_sum == 0:\n",
    "            i = 0\n",
    "            final_set.add((i,val))\n",
    "        else:\n",
    "            final_set.add((i,count_sum))\n",
    "    return final_set"
   ]
  },
  {
   "cell_type": "code",
   "execution_count": 314,
   "metadata": {
    "collapsed": false
   },
   "outputs": [
    {
     "data": {
      "text/plain": [
       "{(0, 1), (1, -1)}"
      ]
     },
     "execution_count": 314,
     "metadata": {},
     "output_type": "execute_result"
    }
   ],
   "source": [
    "largest_sum_test([-1,1])"
   ]
  },
  {
   "cell_type": "code",
   "execution_count": 315,
   "metadata": {
    "collapsed": false
   },
   "outputs": [
    {
     "data": {
      "text/plain": [
       "{(1, 1), (2, 3), (3, 2), (4, 5), (5, 9), (6, 19), (7, 29), (8, 19), (9, 18)}"
      ]
     },
     "execution_count": 315,
     "metadata": {},
     "output_type": "execute_result"
    }
   ],
   "source": [
    "largest_sum_test([1,2,-1,3,4,10,10,-10,-1])"
   ]
  },
  {
   "cell_type": "code",
   "execution_count": 319,
   "metadata": {
    "collapsed": false
   },
   "outputs": [
    {
     "data": {
      "text/plain": [
       "{(1, 1), (2, 3), (3, 2), (4, 5), (5, 9)}"
      ]
     },
     "execution_count": 319,
     "metadata": {},
     "output_type": "execute_result"
    }
   ],
   "source": [
    "largest_sum_test([1,2,-1,3,4])"
   ]
  },
  {
   "cell_type": "code",
   "execution_count": 320,
   "metadata": {
    "collapsed": true
   },
   "outputs": [],
   "source": [
    "# His solution on finding the largest sum"
   ]
  },
  {
   "cell_type": "code",
   "execution_count": 321,
   "metadata": {
    "collapsed": true
   },
   "outputs": [],
   "source": [
    "def large_cont_sum(arr):\n",
    "    if len(arr)==0:\n",
    "        return 0\n",
    "    \n",
    "    current_sum = max_sum = arr[0]\n",
    "    \n",
    "    for val in arr[1:]:\n",
    "        current_sum = max(current_sum+val, val)\n",
    "        max_sum = max(current_sum, max_sum)\n",
    "        \n",
    "    return max_sum\n",
    "        "
   ]
  },
  {
   "cell_type": "code",
   "execution_count": 322,
   "metadata": {
    "collapsed": false
   },
   "outputs": [
    {
     "name": "stdout",
     "output_type": "stream",
     "text": [
      "ALL TEST CASES PASSED\n"
     ]
    }
   ],
   "source": [
    "#Run Test\n",
    "t = LargeContTest()\n",
    "t.test(large_cont_sum)"
   ]
  },
  {
   "cell_type": "code",
   "execution_count": 366,
   "metadata": {
    "collapsed": true
   },
   "outputs": [],
   "source": [
    "str = \"This is the best\""
   ]
  },
  {
   "cell_type": "code",
   "execution_count": 367,
   "metadata": {
    "collapsed": false
   },
   "outputs": [],
   "source": [
    "new_str = str.split()"
   ]
  },
  {
   "cell_type": "code",
   "execution_count": 368,
   "metadata": {
    "collapsed": false
   },
   "outputs": [],
   "source": [
    "hold_str = []"
   ]
  },
  {
   "cell_type": "code",
   "execution_count": 369,
   "metadata": {
    "collapsed": true
   },
   "outputs": [],
   "source": [
    "for val in new_str:\n",
    "    hold_str.append(val)"
   ]
  },
  {
   "cell_type": "code",
   "execution_count": 370,
   "metadata": {
    "collapsed": false
   },
   "outputs": [
    {
     "data": {
      "text/plain": [
       "4"
      ]
     },
     "execution_count": 370,
     "metadata": {},
     "output_type": "execute_result"
    }
   ],
   "source": [
    "len(hold_str)"
   ]
  },
  {
   "cell_type": "code",
   "execution_count": 371,
   "metadata": {
    "collapsed": false
   },
   "outputs": [],
   "source": [
    "final_list = []\n",
    "\n",
    "for i in range(len(hold_str)):\n",
    "    final_list.append(hold_str.pop())"
   ]
  },
  {
   "cell_type": "code",
   "execution_count": 374,
   "metadata": {
    "collapsed": false
   },
   "outputs": [
    {
     "name": "stdout",
     "output_type": "stream",
     "text": [
      "best the is This\n"
     ]
    }
   ],
   "source": [
    "for val in final_list:\n",
    "    print val,"
   ]
  },
  {
   "cell_type": "code",
   "execution_count": 348,
   "metadata": {
    "collapsed": false
   },
   "outputs": [
    {
     "data": {
      "text/plain": [
       "['This', 'is', 'the', 'best']"
      ]
     },
     "execution_count": 348,
     "metadata": {},
     "output_type": "execute_result"
    }
   ],
   "source": [
    "hold_str"
   ]
  },
  {
   "cell_type": "code",
   "execution_count": 354,
   "metadata": {
    "collapsed": false
   },
   "outputs": [
    {
     "data": {
      "text/plain": [
       "'This'"
      ]
     },
     "execution_count": 354,
     "metadata": {},
     "output_type": "execute_result"
    }
   ],
   "source": [
    "final_list"
   ]
  },
  {
   "cell_type": "code",
   "execution_count": 341,
   "metadata": {
    "collapsed": false
   },
   "outputs": [
    {
     "data": {
      "text/plain": [
       "'best'"
      ]
     },
     "execution_count": 341,
     "metadata": {},
     "output_type": "execute_result"
    }
   ],
   "source": [
    "hold_str.pop()"
   ]
  },
  {
   "cell_type": "code",
   "execution_count": 342,
   "metadata": {
    "collapsed": true
   },
   "outputs": [],
   "source": [
    "for x in hold_str:\n",
    "    final_list = hold_str.pop()"
   ]
  },
  {
   "cell_type": "code",
   "execution_count": 343,
   "metadata": {
    "collapsed": false
   },
   "outputs": [
    {
     "data": {
      "text/plain": [
       "'is'"
      ]
     },
     "execution_count": 343,
     "metadata": {},
     "output_type": "execute_result"
    }
   ],
   "source": [
    "final_list"
   ]
  },
  {
   "cell_type": "code",
   "execution_count": 377,
   "metadata": {
    "collapsed": false
   },
   "outputs": [
    {
     "data": {
      "text/plain": [
       "['This', 'is', 'a', 'lot', 'of', 'space.']"
      ]
     },
     "execution_count": 377,
     "metadata": {},
     "output_type": "execute_result"
    }
   ],
   "source": [
    "str_val = \"    This is a lot of space.     \"\n",
    "\n",
    "str_val.lstrip().rstrip().split()"
   ]
  },
  {
   "cell_type": "code",
   "execution_count": 400,
   "metadata": {
    "collapsed": false
   },
   "outputs": [],
   "source": [
    "def string_rev(str):\n",
    "    new_str = str.rstrip().lstrip().split()\n",
    "    final_str = []\n",
    "    for i in range(len(new_str)):\n",
    "        final_str.append(new_str.pop())\n",
    "    final = ' '.join(list(final_str))\n",
    "    return final"
   ]
  },
  {
   "cell_type": "code",
   "execution_count": 401,
   "metadata": {
    "collapsed": false
   },
   "outputs": [
    {
     "name": "stdout",
     "output_type": "stream",
     "text": [
      "ALL TEST CASES PASSED\n"
     ]
    }
   ],
   "source": [
    "\"\"\"\n",
    "RUN THIS CELL TO TEST YOUR SOLUTION\n",
    "\"\"\"\n",
    "\n",
    "from nose.tools import assert_equal\n",
    "\n",
    "class ReversalTest(object):\n",
    "    \n",
    "    def test(self,sol):\n",
    "        assert_equal(sol('    space before'),'before space')\n",
    "        assert_equal(sol('space after     '),'after space')\n",
    "        assert_equal(sol('   Hello John    how are you   '),'you are how John Hello')\n",
    "        assert_equal(sol('1'),'1')\n",
    "        print \"ALL TEST CASES PASSED\"\n",
    "        \n",
    "# Run and test\n",
    "t = ReversalTest()\n",
    "t.test(string_rev)"
   ]
  },
  {
   "cell_type": "code",
   "execution_count": 402,
   "metadata": {
    "collapsed": true
   },
   "outputs": [],
   "source": [
    "# String reversal using the teachers solution."
   ]
  },
  {
   "cell_type": "code",
   "execution_count": 405,
   "metadata": {
    "collapsed": true
   },
   "outputs": [],
   "source": [
    "def str_rev(str):\n",
    "    return ' '.join(reversed(str.split()))"
   ]
  },
  {
   "cell_type": "code",
   "execution_count": 406,
   "metadata": {
    "collapsed": false
   },
   "outputs": [
    {
     "data": {
      "text/plain": [
       "'great is This'"
      ]
     },
     "execution_count": 406,
     "metadata": {},
     "output_type": "execute_result"
    }
   ],
   "source": [
    "str_rev(\"This is great\")"
   ]
  },
  {
   "cell_type": "code",
   "execution_count": 407,
   "metadata": {
    "collapsed": true
   },
   "outputs": [],
   "source": [
    "def rev_str1(s):\n",
    "    spaces = [' ']\n",
    "    i = 0\n",
    "    length = len(s)\n",
    "    words = []\n",
    "    \n",
    "    if length == 0:\n",
    "        return 0\n",
    "    \n",
    "    while i < length:\n",
    "        if s[i] not in spaces:\n",
    "            word_start = i\n",
    "            \n",
    "            while i < length and s[i] not in spaces:\n",
    "                i += 1\n",
    "            \n",
    "            words.append(s[word_start:i])\n",
    "            \n",
    "        i += 1\n",
    "        \n",
    "    return \" \".join(reversed(words))\n",
    "            "
   ]
  },
  {
   "cell_type": "code",
   "execution_count": 408,
   "metadata": {
    "collapsed": false
   },
   "outputs": [
    {
     "name": "stdout",
     "output_type": "stream",
     "text": [
      "ALL TEST CASES PASSED\n"
     ]
    }
   ],
   "source": [
    "# Run and test\n",
    "t = ReversalTest()\n",
    "t.test(rev_str1)"
   ]
  },
  {
   "cell_type": "code",
   "execution_count": 409,
   "metadata": {
    "collapsed": true
   },
   "outputs": [],
   "source": [
    "# String compression problem."
   ]
  },
  {
   "cell_type": "code",
   "execution_count": 457,
   "metadata": {
    "collapsed": false
   },
   "outputs": [],
   "source": [
    "import collections\n",
    "def compress(str):\n",
    "    if len(str) == 0:\n",
    "        return \"\"\n",
    "    \n",
    "    s = \"\"\n",
    "    \n",
    "    hash_map = dict()\n",
    "    \n",
    "    for i in str:\n",
    "        if i in hash_map.keys():\n",
    "            hash_map[i] += 1\n",
    "        else:\n",
    "            hash_map[i] = 1\n",
    "            \n",
    "    od = collections.OrderedDict(sorted(hash_map.items()))        \n",
    "    return(\"\".join(\"{}{}\".format(k, v) for k, v in od.items()))"
   ]
  },
  {
   "cell_type": "code",
   "execution_count": 458,
   "metadata": {
    "collapsed": false
   },
   "outputs": [
    {
     "data": {
      "text/plain": [
       "'A2B2C2'"
      ]
     },
     "execution_count": 458,
     "metadata": {},
     "output_type": "execute_result"
    }
   ],
   "source": [
    "compress(\"AABBCC\")"
   ]
  },
  {
   "cell_type": "code",
   "execution_count": 468,
   "metadata": {
    "collapsed": true
   },
   "outputs": [],
   "source": [
    "# Tutors solution\n",
    "# O(N) RUN TIME"
   ]
  },
  {
   "cell_type": "code",
   "execution_count": 471,
   "metadata": {
    "collapsed": true
   },
   "outputs": [],
   "source": [
    "def compress_new(s):\n",
    "    r =\"\"\n",
    "    l = len(s)\n",
    "    \n",
    "    if  l == 0:\n",
    "        return \"\"\n",
    "    \n",
    "    if l == 1:\n",
    "        return s+\"1\"\n",
    "    \n",
    "    cnt = 1\n",
    "    i = 1\n",
    "    \n",
    "    while i < l:\n",
    "        if s[i] == s[i-1]:\n",
    "            cnt += 1\n",
    "        else:\n",
    "            r = r + s[i-1] + str(cnt)\n",
    "            cnt = 1\n",
    "        i += 1\n",
    "    r = r + s[i-1] + str(cnt)\n",
    "    \n",
    "    return r"
   ]
  },
  {
   "cell_type": "code",
   "execution_count": 472,
   "metadata": {
    "collapsed": false
   },
   "outputs": [
    {
     "ename": "TypeError",
     "evalue": "'str' object is not callable",
     "output_type": "error",
     "traceback": [
      "\u001b[0;31m---------------------------------------------------------------------------\u001b[0m",
      "\u001b[0;31mTypeError\u001b[0m                                 Traceback (most recent call last)",
      "\u001b[0;32m<ipython-input-472-2e0e317ba10d>\u001b[0m in \u001b[0;36m<module>\u001b[0;34m()\u001b[0m\n\u001b[1;32m     14\u001b[0m \u001b[0;31m# Run Tests\u001b[0m\u001b[0;34m\u001b[0m\u001b[0;34m\u001b[0m\u001b[0m\n\u001b[1;32m     15\u001b[0m \u001b[0mt\u001b[0m \u001b[0;34m=\u001b[0m \u001b[0mTestCompress\u001b[0m\u001b[0;34m(\u001b[0m\u001b[0;34m)\u001b[0m\u001b[0;34m\u001b[0m\u001b[0m\n\u001b[0;32m---> 16\u001b[0;31m \u001b[0mt\u001b[0m\u001b[0;34m.\u001b[0m\u001b[0mtest\u001b[0m\u001b[0;34m(\u001b[0m\u001b[0mcompress_new\u001b[0m\u001b[0;34m)\u001b[0m\u001b[0;34m\u001b[0m\u001b[0m\n\u001b[0m",
      "\u001b[0;32m<ipython-input-472-2e0e317ba10d>\u001b[0m in \u001b[0;36mtest\u001b[0;34m(self, sol)\u001b[0m\n\u001b[1;32m      8\u001b[0m     \u001b[0;32mdef\u001b[0m \u001b[0mtest\u001b[0m\u001b[0;34m(\u001b[0m\u001b[0mself\u001b[0m\u001b[0;34m,\u001b[0m \u001b[0msol\u001b[0m\u001b[0;34m)\u001b[0m\u001b[0;34m:\u001b[0m\u001b[0;34m\u001b[0m\u001b[0m\n\u001b[1;32m      9\u001b[0m         \u001b[0massert_equal\u001b[0m\u001b[0;34m(\u001b[0m\u001b[0msol\u001b[0m\u001b[0;34m(\u001b[0m\u001b[0;34m''\u001b[0m\u001b[0;34m)\u001b[0m\u001b[0;34m,\u001b[0m \u001b[0;34m''\u001b[0m\u001b[0;34m)\u001b[0m\u001b[0;34m\u001b[0m\u001b[0m\n\u001b[0;32m---> 10\u001b[0;31m         \u001b[0massert_equal\u001b[0m\u001b[0;34m(\u001b[0m\u001b[0msol\u001b[0m\u001b[0;34m(\u001b[0m\u001b[0;34m'AABBCC'\u001b[0m\u001b[0;34m)\u001b[0m\u001b[0;34m,\u001b[0m \u001b[0;34m'A2B2C2'\u001b[0m\u001b[0;34m)\u001b[0m\u001b[0;34m\u001b[0m\u001b[0m\n\u001b[0m\u001b[1;32m     11\u001b[0m         \u001b[0massert_equal\u001b[0m\u001b[0;34m(\u001b[0m\u001b[0msol\u001b[0m\u001b[0;34m(\u001b[0m\u001b[0;34m'AAABCCDDDDD'\u001b[0m\u001b[0;34m)\u001b[0m\u001b[0;34m,\u001b[0m \u001b[0;34m'A3B1C2D5'\u001b[0m\u001b[0;34m)\u001b[0m\u001b[0;34m\u001b[0m\u001b[0m\n\u001b[1;32m     12\u001b[0m         \u001b[0;32mprint\u001b[0m \u001b[0;34m'ALL TEST CASES PASSED'\u001b[0m\u001b[0;34m\u001b[0m\u001b[0m\n",
      "\u001b[0;32m<ipython-input-471-d6d5eaf87259>\u001b[0m in \u001b[0;36mcompress_new\u001b[0;34m(s)\u001b[0m\n\u001b[1;32m     17\u001b[0m             \u001b[0mcnt\u001b[0m \u001b[0;34m+=\u001b[0m \u001b[0;36m1\u001b[0m\u001b[0;34m\u001b[0m\u001b[0m\n\u001b[1;32m     18\u001b[0m         \u001b[0;32melse\u001b[0m\u001b[0;34m:\u001b[0m\u001b[0;34m\u001b[0m\u001b[0m\n\u001b[0;32m---> 19\u001b[0;31m             \u001b[0mr\u001b[0m \u001b[0;34m=\u001b[0m \u001b[0mr\u001b[0m \u001b[0;34m+\u001b[0m \u001b[0ms\u001b[0m\u001b[0;34m[\u001b[0m\u001b[0mi\u001b[0m\u001b[0;34m-\u001b[0m\u001b[0;36m1\u001b[0m\u001b[0;34m]\u001b[0m \u001b[0;34m+\u001b[0m \u001b[0mstr\u001b[0m\u001b[0;34m(\u001b[0m\u001b[0mcnt\u001b[0m\u001b[0;34m)\u001b[0m\u001b[0;34m\u001b[0m\u001b[0m\n\u001b[0m\u001b[1;32m     20\u001b[0m             \u001b[0mcnt\u001b[0m \u001b[0;34m=\u001b[0m \u001b[0;36m1\u001b[0m\u001b[0;34m\u001b[0m\u001b[0m\n\u001b[1;32m     21\u001b[0m         \u001b[0mi\u001b[0m \u001b[0;34m+=\u001b[0m \u001b[0;36m1\u001b[0m\u001b[0;34m\u001b[0m\u001b[0m\n",
      "\u001b[0;31mTypeError\u001b[0m: 'str' object is not callable"
     ]
    }
   ],
   "source": [
    "\"\"\"\n",
    "RUN THIS CELL TO TEST YOUR SOLUTION\n",
    "\"\"\"\n",
    "from nose.tools import assert_equal\n",
    "\n",
    "class TestCompress(object):\n",
    "\n",
    "    def test(self, sol):\n",
    "        assert_equal(sol(''), '')\n",
    "        assert_equal(sol('AABBCC'), 'A2B2C2')\n",
    "        assert_equal(sol('AAABCCDDDDD'), 'A3B1C2D5')\n",
    "        print 'ALL TEST CASES PASSED'\n",
    "\n",
    "# Run Tests\n",
    "t = TestCompress()\n",
    "t.test(compress_new)"
   ]
  },
  {
   "cell_type": "code",
   "execution_count": 460,
   "metadata": {
    "collapsed": true
   },
   "outputs": [],
   "source": [
    "# Find if the input string contains all unique characters."
   ]
  },
  {
   "cell_type": "code",
   "execution_count": 465,
   "metadata": {
    "collapsed": true
   },
   "outputs": [],
   "source": [
    "def uni_char(s):\n",
    "    if len(s) == 0:\n",
    "        return True\n",
    "    \n",
    "    hash_map = dict()\n",
    "    \n",
    "    for val in s:\n",
    "        if val in hash_map:\n",
    "            return False\n",
    "        else:\n",
    "            hash_map[val] = 1\n",
    "    return True\n",
    "        "
   ]
  },
  {
   "cell_type": "code",
   "execution_count": 466,
   "metadata": {
    "collapsed": false
   },
   "outputs": [
    {
     "data": {
      "text/plain": [
       "False"
      ]
     },
     "execution_count": 466,
     "metadata": {},
     "output_type": "execute_result"
    }
   ],
   "source": [
    "uni_char(\"goo\")"
   ]
  },
  {
   "cell_type": "code",
   "execution_count": 463,
   "metadata": {
    "collapsed": false
   },
   "outputs": [
    {
     "data": {
      "text/plain": [
       "True"
      ]
     },
     "execution_count": 463,
     "metadata": {},
     "output_type": "execute_result"
    }
   ],
   "source": [
    "uni_char(\"abcde\")"
   ]
  },
  {
   "cell_type": "code",
   "execution_count": 467,
   "metadata": {
    "collapsed": false
   },
   "outputs": [
    {
     "name": "stdout",
     "output_type": "stream",
     "text": [
      "ALL TEST CASES PASSED\n"
     ]
    }
   ],
   "source": [
    "\"\"\"\n",
    "RUN THIS CELL TO TEST YOUR CODE>\n",
    "\"\"\"\n",
    "from nose.tools import assert_equal\n",
    "\n",
    "\n",
    "class TestUnique(object):\n",
    "\n",
    "    def test(self, sol):\n",
    "        assert_equal(sol(''), True)\n",
    "        assert_equal(sol('goo'), False)\n",
    "        assert_equal(sol('abcdefg'), True)\n",
    "        print 'ALL TEST CASES PASSED'\n",
    "        \n",
    "# Run Tests\n",
    "t = TestUnique()\n",
    "t.test(uni_char)"
   ]
  },
  {
   "cell_type": "code",
   "execution_count": 473,
   "metadata": {
    "collapsed": true
   },
   "outputs": [],
   "source": [
    "# tutors solution\n",
    "# Using set operation"
   ]
  },
  {
   "cell_type": "code",
   "execution_count": 474,
   "metadata": {
    "collapsed": true
   },
   "outputs": [],
   "source": [
    "def uni_char1(s):\n",
    "    return len(set(s)) == len(s)"
   ]
  },
  {
   "cell_type": "code",
   "execution_count": 475,
   "metadata": {
    "collapsed": false
   },
   "outputs": [
    {
     "name": "stdout",
     "output_type": "stream",
     "text": [
      "ALL TEST CASES PASSED\n"
     ]
    }
   ],
   "source": [
    "# Run Tests\n",
    "t = TestUnique()\n",
    "t.test(uni_char1)"
   ]
  },
  {
   "cell_type": "code",
   "execution_count": 478,
   "metadata": {
    "collapsed": true
   },
   "outputs": [],
   "source": [
    "def uni_char2(s):\n",
    "    chars = set()\n",
    "    \n",
    "    for let in s:\n",
    "        if let in chars:\n",
    "            return False\n",
    "        else:\n",
    "            chars.add(let)\n",
    "    return True"
   ]
  },
  {
   "cell_type": "code",
   "execution_count": 479,
   "metadata": {
    "collapsed": false
   },
   "outputs": [
    {
     "name": "stdout",
     "output_type": "stream",
     "text": [
      "ALL TEST CASES PASSED\n"
     ]
    }
   ],
   "source": [
    "# Run Tests\n",
    "t = TestUnique()\n",
    "t.test(uni_char2)"
   ]
  }
 ],
 "metadata": {
  "kernelspec": {
   "display_name": "Python 2",
   "language": "python",
   "name": "python2"
  },
  "language_info": {
   "codemirror_mode": {
    "name": "ipython",
    "version": 2
   },
   "file_extension": ".py",
   "mimetype": "text/x-python",
   "name": "python",
   "nbconvert_exporter": "python",
   "pygments_lexer": "ipython2",
   "version": "2.7.10"
  }
 },
 "nbformat": 4,
 "nbformat_minor": 0
}
