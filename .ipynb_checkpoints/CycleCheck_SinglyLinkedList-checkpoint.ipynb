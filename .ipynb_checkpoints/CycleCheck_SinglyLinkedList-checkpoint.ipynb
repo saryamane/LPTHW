{
 "cells": [
  {
   "cell_type": "code",
   "execution_count": 6,
   "metadata": {
    "collapsed": true
   },
   "outputs": [],
   "source": [
    "class Node(object):\n",
    "    \n",
    "    def __init__(self,value):\n",
    "        \n",
    "        self.value = value\n",
    "        self.nextnode = None"
   ]
  },
  {
   "cell_type": "code",
   "execution_count": 15,
   "metadata": {
    "collapsed": true
   },
   "outputs": [],
   "source": [
    "# the concept is that we will have two markers.\n",
    "# marker1 and marker2.\n",
    "# We will increment marker1 by 1, and marker2 will increment by 2\n",
    "\n",
    "# If the linkedlist is cyclic, then there will be a point,\n",
    "# where marker2 == marker1, else if not marker2 will reach None first\n",
    "\n",
    "# So we check for the marker2 == marker1, and return True\n",
    "# else we return False ultimately."
   ]
  },
  {
   "cell_type": "code",
   "execution_count": 13,
   "metadata": {
    "collapsed": true
   },
   "outputs": [],
   "source": [
    "def cycle_check(node):\n",
    "    \n",
    "    marker1 = node\n",
    "    marker2 = node\n",
    "    \n",
    "    while marker2 != None and marker2.nextnode != None:\n",
    "        marker1 = marker1.nextnode\n",
    "        marker2 = marker2.nextnode.nextnode\n",
    "        \n",
    "        if marker2 == marker1:\n",
    "            return True\n",
    "    return False"
   ]
  },
  {
   "cell_type": "code",
   "execution_count": 14,
   "metadata": {
    "collapsed": false
   },
   "outputs": [
    {
     "name": "stdout",
     "output_type": "stream",
     "text": [
      "ALL TEST CASES PASSED\n"
     ]
    }
   ],
   "source": [
    "\"\"\"\n",
    "RUN THIS CELL TO TEST YOUR SOLUTION\n",
    "\"\"\"\n",
    "from nose.tools import assert_equal\n",
    "\n",
    "# CREATE CYCLE LIST\n",
    "a = Node(1)\n",
    "b = Node(2)\n",
    "c = Node(3)\n",
    "\n",
    "a.nextnode = b\n",
    "b.nextnode = c\n",
    "c.nextnode = a # Cycle Here!\n",
    "\n",
    "\n",
    "# CREATE NON CYCLE LIST\n",
    "x = Node(1)\n",
    "y = Node(2)\n",
    "z = Node(3)\n",
    "\n",
    "x.nextnode = y\n",
    "y.nextnode = z\n",
    "\n",
    "\n",
    "#############\n",
    "class TestCycleCheck(object):\n",
    "    \n",
    "    def test(self,sol):\n",
    "        assert_equal(sol(a),True)\n",
    "        assert_equal(sol(x),False)\n",
    "        \n",
    "        print \"ALL TEST CASES PASSED\"\n",
    "        \n",
    "# Run Tests\n",
    "\n",
    "t = TestCycleCheck()\n",
    "t.test(cycle_check)"
   ]
  },
  {
   "cell_type": "code",
   "execution_count": null,
   "metadata": {
    "collapsed": true
   },
   "outputs": [],
   "source": []
  }
 ],
 "metadata": {
  "kernelspec": {
   "display_name": "Python 2",
   "language": "python",
   "name": "python2"
  },
  "language_info": {
   "codemirror_mode": {
    "name": "ipython",
    "version": 2
   },
   "file_extension": ".py",
   "mimetype": "text/x-python",
   "name": "python",
   "nbconvert_exporter": "python",
   "pygments_lexer": "ipython2",
   "version": "2.7.10"
  }
 },
 "nbformat": 4,
 "nbformat_minor": 0
}
