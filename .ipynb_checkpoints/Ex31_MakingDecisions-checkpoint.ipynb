{
 "cells": [
  {
   "cell_type": "code",
   "execution_count": 1,
   "metadata": {
    "collapsed": false
   },
   "outputs": [
    {
     "name": "stdout",
     "output_type": "stream",
     "text": [
      "You enter a dark room with two doors. Do you go through door #1 or door #2?\n"
     ]
    }
   ],
   "source": []
  },
  {
   "cell_type": "code",
   "execution_count": 3,
   "metadata": {
    "collapsed": false
   },
   "outputs": [
    {
     "name": "stdout",
     "output_type": "stream",
     "text": [
      "You enter a dark room with two doors. Do you go through door #1 or door #2?\n",
      "> 1\n",
      "There's a giant dear here eating a cheese cake. What do you do?\n",
      "1. Take the cake.\n",
      "2. Scream at the bear.\n",
      "> Run away\n",
      "Well, doing Run away is probably better. Bear runs away\n"
     ]
    }
   ],
   "source": [
    "print \"You enter a dark room with two doors. Do you go through door #1 or door #2?\"\n",
    "door = raw_input(\"> \")\n",
    "\n",
    "if door == \"1\":\n",
    "    print \"There's a giant dear here eating a cheese cake. What do you do?\"\n",
    "    print \"1. Take the cake.\"\n",
    "    print \"2. Scream at the bear.\"\n",
    "    \n",
    "    bear = raw_input(\"> \")\n",
    "    \n",
    "    if bear == \"1\":\n",
    "        print \"The bear eats your face off. Good job!\"\n",
    "    elif bear == \"2\":\n",
    "        print \"The bear eats your legs off. Good job!\"\n",
    "    else:\n",
    "        print \"Well, doing %s is probably better. Bear runs away\" % bear\n",
    "        \n",
    "elif door == \"2\":\n",
    "    print \"You stare into the endless abyss at Cthulhu's retina.\"\n",
    "    print \"1. Blueberries.\"\n",
    "    print \"2. Yellow jacker clothespins.\"\n",
    "    print \"3. Understanding revolvers yelling melodies.\"\n",
    "    \n",
    "    insanity = raw_input(\"> \")\n",
    "    \n",
    "    if insanity == \"1\" or insanity == \"2\":\n",
    "        print \"Your body survives powered by a mind of jello. Good job\"\n",
    "    else:\n",
    "        print \"The insanity rots your eyes into a pool of muck. Good job!\"\n",
    "    \n",
    "else:\n",
    "    print \"You stumble around and fall on a knife and die. Good job!\""
   ]
  },
  {
   "cell_type": "code",
   "execution_count": 4,
   "metadata": {
    "collapsed": false
   },
   "outputs": [
    {
     "name": "stdout",
     "output_type": "stream",
     "text": [
      "1\n",
      "2\n",
      "3\n",
      "4\n",
      "5\n",
      "6\n",
      "7\n",
      "8\n",
      "9\n"
     ]
    }
   ],
   "source": [
    "for i in range(1,10):\n",
    "    print i"
   ]
  }
 ],
 "metadata": {
  "kernelspec": {
   "display_name": "Python 2",
   "language": "python",
   "name": "python2"
  },
  "language_info": {
   "codemirror_mode": {
    "name": "ipython",
    "version": 2
   },
   "file_extension": ".py",
   "mimetype": "text/x-python",
   "name": "python",
   "nbconvert_exporter": "python",
   "pygments_lexer": "ipython2",
   "version": "2.7.10"
  }
 },
 "nbformat": 4,
 "nbformat_minor": 0
}
