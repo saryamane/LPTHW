{
 "cells": [
  {
   "cell_type": "code",
   "execution_count": 1,
   "metadata": {
    "collapsed": true
   },
   "outputs": [],
   "source": [
    "# All about files!\n"
   ]
  },
  {
   "cell_type": "code",
   "execution_count": 2,
   "metadata": {
    "collapsed": true
   },
   "outputs": [],
   "source": [
    "# READING FILES\n",
    "\n",
    "# Open files here and work with them.\n",
    "\n",
    "# Right the right commands."
   ]
  },
  {
   "cell_type": "code",
   "execution_count": null,
   "metadata": {
    "collapsed": true
   },
   "outputs": [],
   "source": [
    "# Import the argv method from the sys module.\n",
    "from sys import argv\n",
    "\n",
    "# This is variable unpacking, where we are taking the argv[0] as the\n",
    "# scriptname that you call using the python command.\n",
    "\n",
    "# argv[1] is the filename that the user passes while calling this script.\n",
    "\n",
    "script, filename = argv\n",
    "\n",
    "# Here we open the file, that is passed to us through the command line/\n",
    "# open() method will set the file reference to the ext variable.\n",
    "# We will then be able to use the methods relating to files on the txt \n",
    "# variable at a later stage.\n",
    "\n",
    "txt = open(filename) # txt is the reference to the file\n",
    "\n",
    "# Just another printing something to the stdout.\n",
    "print \"Here's your file %r:\" % filename\n",
    "\n",
    "# This is the new exiciting read function on the file opened variable.\n",
    "# Read will read the contents of the open file handler and print it out.\n",
    "print txt.read() # Read is a function on the reference.\n",
    "\n",
    "txt.close()\n",
    "\n",
    "# Now this time we ask the user to provide us the filename through\n",
    "# std terminal message and using raw_input()\n",
    "print \"Type the filename again:\"\n",
    "file_again = raw_input(\"> \")\n",
    "\n",
    "# Perform open first assign it to a file handler variable.\n",
    "txt_again = open(file_again)\n",
    "\n",
    "# perform the read operation on the file handler, which is the file object.\n",
    "# read() method will read the contents of the file\n",
    "print txt_again.read()\n",
    "\n",
    "# Close the file handler. Its a good practise to do so once done.\n",
    "txt_again.close()"
   ]
  },
  {
   "cell_type": "code",
   "execution_count": 3,
   "metadata": {
    "collapsed": true
   },
   "outputs": [],
   "source": [
    "# All you are doing with raw_input and argv is that you are setting\n",
    "# a variable."
   ]
  },
  {
   "cell_type": "code",
   "execution_count": null,
   "metadata": {
    "collapsed": true
   },
   "outputs": [],
   "source": []
  }
 ],
 "metadata": {
  "kernelspec": {
   "display_name": "Python 2",
   "language": "python",
   "name": "python2"
  },
  "language_info": {
   "codemirror_mode": {
    "name": "ipython",
    "version": 2
   },
   "file_extension": ".py",
   "mimetype": "text/x-python",
   "name": "python",
   "nbconvert_exporter": "python",
   "pygments_lexer": "ipython2",
   "version": "2.7.10"
  }
 },
 "nbformat": 4,
 "nbformat_minor": 0
}
