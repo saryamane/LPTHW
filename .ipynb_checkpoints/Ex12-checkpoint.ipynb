{
 "cells": [
  {
   "cell_type": "code",
   "execution_count": 1,
   "metadata": {
    "collapsed": true
   },
   "outputs": [],
   "source": [
    "# In raw input you can pass the question you are trying to ask"
   ]
  },
  {
   "cell_type": "code",
   "execution_count": 2,
   "metadata": {
    "collapsed": false
   },
   "outputs": [
    {
     "name": "stdout",
     "output_type": "stream",
     "text": [
      "How old are you? 22\n",
      "How tall are you? 5.6\n",
      "How much do you weigh? 192\n",
      "So you are 22 old, '5.6' in height and '192' heavy\n"
     ]
    }
   ],
   "source": [
    "age = raw_input(\"How old are you? \")\n",
    "height = raw_input(\"How tall are you? \")\n",
    "weight = raw_input(\"How much do you weigh? \")\n",
    "\n",
    "print \"So you are %s old, %r in height and %r heavy\" % (\n",
    "    age, height, weight)"
   ]
  },
  {
   "cell_type": "code",
   "execution_count": 3,
   "metadata": {
    "collapsed": false
   },
   "outputs": [
    {
     "name": "stdout",
     "output_type": "stream",
     "text": [
      "How old\n",
      " are you? 22\n",
      "How tall are you? 5'6\"\n",
      "How much do you weigh? 191\n",
      "So you are 22 old, '5\\'6\"' in height and '191' heavy\n"
     ]
    }
   ],
   "source": [
    "age = raw_input(\"How old\\n are you? \")\n",
    "height = raw_input(\"How tall are you? \")\n",
    "weight = raw_input(\"How much do you weigh? \")\n",
    "\n",
    "print \"So you are %s old, %r in height and %r heavy\" % (\n",
    "    age, height, weight)"
   ]
  },
  {
   "cell_type": "code",
   "execution_count": 4,
   "metadata": {
    "collapsed": false
   },
   "outputs": [
    {
     "name": "stdout",
     "output_type": "stream",
     "text": [
      "Name? Samir\n",
      "So you're name is Samir\n"
     ]
    }
   ],
   "source": [
    "y = raw_input(\"Name? \")\n",
    "print \"So you're name is %s\" %(y)"
   ]
  },
  {
   "cell_type": "code",
   "execution_count": 8,
   "metadata": {
    "collapsed": false
   },
   "outputs": [],
   "source": [
    "?raw_input"
   ]
  }
 ],
 "metadata": {
  "kernelspec": {
   "display_name": "Python 2",
   "language": "python",
   "name": "python2"
  },
  "language_info": {
   "codemirror_mode": {
    "name": "ipython",
    "version": 2
   },
   "file_extension": ".py",
   "mimetype": "text/x-python",
   "name": "python",
   "nbconvert_exporter": "python",
   "pygments_lexer": "ipython2",
   "version": "2.7.10"
  }
 },
 "nbformat": 4,
 "nbformat_minor": 0
}
